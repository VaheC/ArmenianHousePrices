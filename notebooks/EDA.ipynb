{
 "cells": [
  {
   "cell_type": "markdown",
   "metadata": {},
   "source": [
    "# Importing some packages"
   ]
  },
  {
   "cell_type": "code",
   "execution_count": 38,
   "metadata": {},
   "outputs": [],
   "source": [
    "import pandas as pd\n",
    "import numpy as np\n",
    "import re\n",
    "import string \n",
    "from math import radians, sin, cos, acos\n",
    "import pickle\n",
    "import os\n",
    "from pathlib import Path"
   ]
  },
  {
   "cell_type": "markdown",
   "metadata": {},
   "source": [
    "# Loading the data"
   ]
  },
  {
   "cell_type": "code",
   "execution_count": 2,
   "metadata": {},
   "outputs": [
    {
     "data": {
      "text/html": [
       "<div>\n",
       "<style scoped>\n",
       "    .dataframe tbody tr th:only-of-type {\n",
       "        vertical-align: middle;\n",
       "    }\n",
       "\n",
       "    .dataframe tbody tr th {\n",
       "        vertical-align: top;\n",
       "    }\n",
       "\n",
       "    .dataframe thead th {\n",
       "        text-align: right;\n",
       "    }\n",
       "</style>\n",
       "<table border=\"1\" class=\"dataframe\">\n",
       "  <thead>\n",
       "    <tr style=\"text-align: right;\">\n",
       "      <th></th>\n",
       "      <th>description</th>\n",
       "      <th>address</th>\n",
       "      <th>usd_price</th>\n",
       "      <th>amd_price</th>\n",
       "      <th>rub_price</th>\n",
       "      <th>seller_type</th>\n",
       "      <th>attributes</th>\n",
       "      <th>total_description</th>\n",
       "      <th>places_nearby</th>\n",
       "      <th>posted_date</th>\n",
       "      <th>renewed_date</th>\n",
       "      <th>seller_id</th>\n",
       "      <th>estate_type</th>\n",
       "      <th>estate_id</th>\n",
       "    </tr>\n",
       "  </thead>\n",
       "  <tbody>\n",
       "    <tr>\n",
       "      <th>0</th>\n",
       "      <td>2 room apartment, Pushkin Street, 48 sq.m., 3/...</td>\n",
       "      <td>Pushkin Street, Yerevan</td>\n",
       "      <td>165000</td>\n",
       "      <td>64779000</td>\n",
       "      <td>15386936</td>\n",
       "      <td>00591Agency</td>\n",
       "      <td>[('Construction Type', 'Panels'), ('New Constr...</td>\n",
       "      <td>A 2-room apartment with an area of 48 square m...</td>\n",
       "      <td>Opera Theatre; Republic Square; Cascade; Verni...</td>\n",
       "      <td>2024-02-03</td>\n",
       "      <td>2024-04-19 00:00:00</td>\n",
       "      <td>capitalcity</td>\n",
       "      <td>apartment</td>\n",
       "      <td>/en/item/20602332</td>\n",
       "    </tr>\n",
       "    <tr>\n",
       "      <th>1</th>\n",
       "      <td>3 room apartment on Yervand Kochar street, 90 ...</td>\n",
       "      <td>Yervand Kochar street, Yerevan</td>\n",
       "      <td>170000</td>\n",
       "      <td>66742000</td>\n",
       "      <td>15853207</td>\n",
       "      <td>307992Agency</td>\n",
       "      <td>[('Construction Type', 'Panels'), ('New Constr...</td>\n",
       "      <td>For sale: 3-room E. On Kochar street. The apar...</td>\n",
       "      <td>Saint Gregory the Illuminator Cathedral; Verni...</td>\n",
       "      <td>2023-02-13</td>\n",
       "      <td>2024-04-18 00:00:00</td>\n",
       "      <td>658934</td>\n",
       "      <td>apartment</td>\n",
       "      <td>/en/item/19008391</td>\n",
       "    </tr>\n",
       "    <tr>\n",
       "      <th>2</th>\n",
       "      <td>2 room apartment on Shahumyan 1st street, 62 s...</td>\n",
       "      <td>Shahumyan 1st street 4, Yerevan</td>\n",
       "      <td>88000</td>\n",
       "      <td>34548800</td>\n",
       "      <td>8206366</td>\n",
       "      <td>NaN</td>\n",
       "      <td>[('Construction Type', 'Stone'), ('New Constru...</td>\n",
       "      <td>An apartment in Araratra 1 block is for sale w...</td>\n",
       "      <td>Unknown</td>\n",
       "      <td>2023-09-27</td>\n",
       "      <td>2024-04-20 00:00:00</td>\n",
       "      <td>21606</td>\n",
       "      <td>apartment</td>\n",
       "      <td>/en/item/20049462</td>\n",
       "    </tr>\n",
       "    <tr>\n",
       "      <th>3</th>\n",
       "      <td>3 room apartment on Moldovakan street, 68 sq.m...</td>\n",
       "      <td>Մոլդովական փողոց 48/3, Yerevan</td>\n",
       "      <td>130000</td>\n",
       "      <td>51038000</td>\n",
       "      <td>12123040</td>\n",
       "      <td>NaN</td>\n",
       "      <td>[('Construction Type', 'Panels'), ('New Constr...</td>\n",
       "      <td>In the 2nd block of Nor Nork, a 3-room apartme...</td>\n",
       "      <td>Unknown</td>\n",
       "      <td>2023-09-27</td>\n",
       "      <td>2024-04-20 00:00:00</td>\n",
       "      <td>1375140</td>\n",
       "      <td>apartment</td>\n",
       "      <td>/en/item/20050503</td>\n",
       "    </tr>\n",
       "    <tr>\n",
       "      <th>4</th>\n",
       "      <td>3 room apartment, Vardanants Street, 68 sq.m.,...</td>\n",
       "      <td>Vardanants Street, Yerevan</td>\n",
       "      <td>165000</td>\n",
       "      <td>64779000</td>\n",
       "      <td>15386936</td>\n",
       "      <td>3k48Agency</td>\n",
       "      <td>[('Construction Type', 'Panels'), ('New Constr...</td>\n",
       "      <td>(code 3k48) 3-room apartment for sale in the c...</td>\n",
       "      <td>Saint Gregory the Illuminator Cathedral; Verni...</td>\n",
       "      <td>2023-10-20</td>\n",
       "      <td>2024-04-18 00:00:00</td>\n",
       "      <td>2572754</td>\n",
       "      <td>apartment</td>\n",
       "      <td>/en/item/20153128</td>\n",
       "    </tr>\n",
       "  </tbody>\n",
       "</table>\n",
       "</div>"
      ],
      "text/plain": [
       "                                         description  \\\n",
       "0  2 room apartment, Pushkin Street, 48 sq.m., 3/...   \n",
       "1  3 room apartment on Yervand Kochar street, 90 ...   \n",
       "2  2 room apartment on Shahumyan 1st street, 62 s...   \n",
       "3  3 room apartment on Moldovakan street, 68 sq.m...   \n",
       "4  3 room apartment, Vardanants Street, 68 sq.m.,...   \n",
       "\n",
       "                           address usd_price amd_price rub_price  \\\n",
       "0          Pushkin Street, Yerevan    165000  64779000  15386936   \n",
       "1   Yervand Kochar street, Yerevan    170000  66742000  15853207   \n",
       "2  Shahumyan 1st street 4, Yerevan     88000  34548800   8206366   \n",
       "3   Մոլդովական փողոց 48/3, Yerevan    130000  51038000  12123040   \n",
       "4       Vardanants Street, Yerevan    165000  64779000  15386936   \n",
       "\n",
       "    seller_type                                         attributes  \\\n",
       "0   00591Agency  [('Construction Type', 'Panels'), ('New Constr...   \n",
       "1  307992Agency  [('Construction Type', 'Panels'), ('New Constr...   \n",
       "2           NaN  [('Construction Type', 'Stone'), ('New Constru...   \n",
       "3           NaN  [('Construction Type', 'Panels'), ('New Constr...   \n",
       "4    3k48Agency  [('Construction Type', 'Panels'), ('New Constr...   \n",
       "\n",
       "                                   total_description  \\\n",
       "0  A 2-room apartment with an area of 48 square m...   \n",
       "1  For sale: 3-room E. On Kochar street. The apar...   \n",
       "2  An apartment in Araratra 1 block is for sale w...   \n",
       "3  In the 2nd block of Nor Nork, a 3-room apartme...   \n",
       "4  (code 3k48) 3-room apartment for sale in the c...   \n",
       "\n",
       "                                       places_nearby posted_date  \\\n",
       "0  Opera Theatre; Republic Square; Cascade; Verni...  2024-02-03   \n",
       "1  Saint Gregory the Illuminator Cathedral; Verni...  2023-02-13   \n",
       "2                                            Unknown  2023-09-27   \n",
       "3                                            Unknown  2023-09-27   \n",
       "4  Saint Gregory the Illuminator Cathedral; Verni...  2023-10-20   \n",
       "\n",
       "          renewed_date    seller_id estate_type          estate_id  \n",
       "0  2024-04-19 00:00:00  capitalcity   apartment  /en/item/20602332  \n",
       "1  2024-04-18 00:00:00       658934   apartment  /en/item/19008391  \n",
       "2  2024-04-20 00:00:00        21606   apartment  /en/item/20049462  \n",
       "3  2024-04-20 00:00:00      1375140   apartment  /en/item/20050503  \n",
       "4  2024-04-18 00:00:00      2572754   apartment  /en/item/20153128  "
      ]
     },
     "execution_count": 2,
     "metadata": {},
     "output_type": "execute_result"
    }
   ],
   "source": [
    "df = pd.read_csv('data/estate.csv')\n",
    "df.head()"
   ]
  },
  {
   "cell_type": "markdown",
   "metadata": {},
   "source": [
    "# EDA"
   ]
  },
  {
   "cell_type": "code",
   "execution_count": 3,
   "metadata": {},
   "outputs": [
    {
     "name": "stdout",
     "output_type": "stream",
     "text": [
      "<class 'pandas.core.frame.DataFrame'>\n",
      "RangeIndex: 23583 entries, 0 to 23582\n",
      "Data columns (total 14 columns):\n",
      " #   Column             Non-Null Count  Dtype \n",
      "---  ------             --------------  ----- \n",
      " 0   description        23583 non-null  object\n",
      " 1   address            23583 non-null  object\n",
      " 2   usd_price          23583 non-null  object\n",
      " 3   amd_price          23583 non-null  object\n",
      " 4   rub_price          23583 non-null  object\n",
      " 5   seller_type        20242 non-null  object\n",
      " 6   attributes         23583 non-null  object\n",
      " 7   total_description  23583 non-null  object\n",
      " 8   places_nearby      23583 non-null  object\n",
      " 9   posted_date        23583 non-null  object\n",
      " 10  renewed_date       23583 non-null  object\n",
      " 11  seller_id          23583 non-null  object\n",
      " 12  estate_type        23583 non-null  object\n",
      " 13  estate_id          23583 non-null  object\n",
      "dtypes: object(14)\n",
      "memory usage: 2.5+ MB\n"
     ]
    }
   ],
   "source": [
    "df.info()"
   ]
  },
  {
   "cell_type": "markdown",
   "metadata": {},
   "source": [
    "### Removing rows for which the price is not available"
   ]
  },
  {
   "cell_type": "code",
   "execution_count": 4,
   "metadata": {},
   "outputs": [
    {
     "name": "stdout",
     "output_type": "stream",
     "text": [
      "<class 'pandas.core.frame.DataFrame'>\n",
      "RangeIndex: 22424 entries, 0 to 22423\n",
      "Data columns (total 14 columns):\n",
      " #   Column             Non-Null Count  Dtype \n",
      "---  ------             --------------  ----- \n",
      " 0   description        22424 non-null  object\n",
      " 1   address            22424 non-null  object\n",
      " 2   usd_price          22424 non-null  object\n",
      " 3   amd_price          22424 non-null  object\n",
      " 4   rub_price          22424 non-null  object\n",
      " 5   seller_type        19083 non-null  object\n",
      " 6   attributes         22424 non-null  object\n",
      " 7   total_description  22424 non-null  object\n",
      " 8   places_nearby      22424 non-null  object\n",
      " 9   posted_date        22424 non-null  object\n",
      " 10  renewed_date       22424 non-null  object\n",
      " 11  seller_id          22424 non-null  object\n",
      " 12  estate_type        22424 non-null  object\n",
      " 13  estate_id          22424 non-null  object\n",
      "dtypes: object(14)\n",
      "memory usage: 2.4+ MB\n"
     ]
    }
   ],
   "source": [
    "df = df[df['usd_price']!='Unknown'].reset_index(drop=True)\n",
    "df.info()"
   ]
  },
  {
   "cell_type": "markdown",
   "metadata": {},
   "source": [
    "### Setting the dates to right format"
   ]
  },
  {
   "cell_type": "markdown",
   "metadata": {},
   "source": [
    "Checking how many ads have not been updated"
   ]
  },
  {
   "cell_type": "code",
   "execution_count": 9,
   "metadata": {},
   "outputs": [
    {
     "data": {
      "text/plain": [
       "(0, 14)"
      ]
     },
     "execution_count": 9,
     "metadata": {},
     "output_type": "execute_result"
    }
   ],
   "source": [
    "df[df['renewed_date']=='Unknown'].shape"
   ]
  },
  {
   "cell_type": "code",
   "execution_count": 8,
   "metadata": {},
   "outputs": [],
   "source": [
    "def create_dates(x):\n",
    "    try:\n",
    "        return pd.to_datetime(x)\n",
    "    except:\n",
    "        return 'not renewed'\n",
    "\n",
    "df['posted_date'] = pd.to_datetime(df['posted_date'])\n",
    "df['renewed_date'] = df['renewed_date'].apply(create_dates)"
   ]
  },
  {
   "cell_type": "markdown",
   "metadata": {},
   "source": [
    "### Splitting attributes column to features"
   ]
  },
  {
   "cell_type": "code",
   "execution_count": 10,
   "metadata": {},
   "outputs": [
    {
     "name": "stdout",
     "output_type": "stream",
     "text": [
      "Number of Rooms values: ['2', '3', '1', '4', '5', '6', '8+', '7']\n",
      "Ceiling Height values: ['from 2.75 m', 'from 2.8 m', 'from 2.6 m', 'from 2.7 m', 'from 3.2 m', 'from 3 m', 'from 3.5 m', 'from 2.5 m']\n",
      "Floor values: ['3', '14', '4', '1', '13', '2', '7', '5', '11', '8', '10', '9', '15', '6', '12', '16', '21', '20', '17', '19', '18', '22', '24', '25', '23', '32+']\n",
      "Renovation values: ['Euro Renovation', 'Major Renovation', 'Old Renovation', 'Cosmetic Renovation', 'Designer Renovation', 'Partial Renovation', 'No Renovation']\n",
      "The House Has values: ['Unknown', 'Intercom entry', 'Playground', 'Intercom entry, playground', 'Intercom entry, concierge, playground', 'Intercom entry, concierge', 'Concierge', 'Concierge, playground']\n",
      "Furniture values: ['Available', 'By agreement', 'Partial Furniture', 'Not available', 'Unknown']\n",
      "Appliances values: ['Air conditioner, fridge, stove, washing machine', 'Unknown', 'Fridge, stove, washing machine', 'Fridge, stove, dishwasher, washing machine, drying machine', 'Air conditioner', 'Air conditioner, fridge, washing machine', 'Stove', 'Air conditioner, fridge, stove, dishwasher, washing machine', 'Stove, washing machine', 'Fridge, stove, dishwasher, washing machine', 'Air conditioner, fridge', 'Air conditioner, fridge, stove, dishwasher, washing machine, drying machine', 'Air conditioner, fridge, stove', 'Air conditioner, stove', 'Fridge, washing machine', 'Fridge, stove', 'Fridge', 'Air conditioner, fridge, dishwasher, washing machine', 'Washing machine, drying machine', 'Air conditioner, fridge, stove, dishwasher', 'Fridge, stove, dishwasher', 'Air conditioner, stove, dishwasher', 'Dishwasher', 'Washing machine', 'Air conditioner, washing machine', 'Air conditioner, dishwasher, washing machine', 'Air conditioner, fridge, stove, drying machine', 'Air conditioner, fridge, stove, washing machine, drying machine', 'Air conditioner, fridge, dishwasher', 'Fridge, washing machine, drying machine', 'Fridge, stove, washing machine, drying machine', 'Air conditioner, stove, washing machine', 'Drying machine', 'Stove, dishwasher, washing machine', 'Dishwasher, washing machine', 'Air conditioner, fridge, stove, dishwasher, drying machine', 'Fridge, dishwasher, washing machine, drying machine', 'Air conditioner, fridge, dishwasher, washing machine, drying machine', 'Fridge, dishwasher', 'Air conditioner, fridge, washing machine, drying machine', 'Fridge, dishwasher, washing machine', 'Air conditioner, dishwasher', 'Air conditioner, stove, dishwasher, washing machine', 'Stove, dishwasher', 'Air conditioner, stove, dishwasher, washing machine, drying machine', 'Air conditioner, washing machine, drying machine', 'Air conditioner, dishwasher, washing machine, drying machine', 'Air conditioner, stove, washing machine, drying machine', 'Air conditioner, drying machine']\n",
      "New Construction values: ['No', 'Yes']\n",
      "Floor Area values: ['48 sq.m.', '90 sq.m.', '62 sq.m.', '68 sq.m.', '88 sq.m.', '86 sq.m.', '50 sq.m.', '79 sq.m.', '101 sq.m.', '66 sq.m.', '46 sq.m.', '92 sq.m.', '98 sq.m.', '115 sq.m.', '65 sq.m.', '75 sq.m.', '47 sq.m.', '72 sq.m.', '80 sq.m.', '37 sq.m.', '94 sq.m.', '89 sq.m.', '93 sq.m.', '104 sq.m.', '100 sq.m.', '30 sq.m.', '73 sq.m.', '165 sq.m.', '82 sq.m.', '69 sq.m.', '172 sq.m.', '175 sq.m.', '77 sq.m.', '132 sq.m.', '54 sq.m.', '95 sq.m.', '57 sq.m.', '67 sq.m.', '117 sq.m.', '150 sq.m.', '51 sq.m.', '70 sq.m.', '105 sq.m.', '128 sq.m.', '107 sq.m.', '85 sq.m.', '140 sq.m.', '45 sq.m.', '58 sq.m.', '120 sq.m.', '118 sq.m.', '71 sq.m.', '49 sq.m.', '44 sq.m.', '122 sq.m.', '56 sq.m.', '230 sq.m.', '60 sq.m.', '74 sq.m.', '108 sq.m.', '64 sq.m.', '78 sq.m.', '96 sq.m.', '42 sq.m.', '63 sq.m.', '31 sq.m.', '200 sq.m.', '83 sq.m.', '119 sq.m.', '135 sq.m.', '52 sq.m.', '178 sq.m.', '34 sq.m.', '36 sq.m.', '41 sq.m.', '87 sq.m.', '123 sq.m.', '76 sq.m.', '106 sq.m.', '61 sq.m.', '33 sq.m.', '40 sq.m.', '38 sq.m.', '206 sq.m.', '32 sq.m.', '133 sq.m.', '81 sq.m.', '55 sq.m.', '134 sq.m.', '84 sq.m.', '91 sq.m.', '110 sq.m.', '97 sq.m.', '142 sq.m.', '170 sq.m.', '125 sq.m.', '109 sq.m.', '111 sq.m.', '59 sq.m.', '39 sq.m.', '43 sq.m.', '138 sq.m.', '18 sq.m.', '185 sq.m.', '116 sq.m.', '114 sq.m.', '136 sq.m.', '213 sq.m.', '124 sq.m.', '160 sq.m.', '235 sq.m.', '210 sq.m.', '127 sq.m.', '103 sq.m.', '112 sq.m.', '53 sq.m.', '139 sq.m.', '130 sq.m.', '250 sq.m.', '145 sq.m.', '183 sq.m.', '102 sq.m.', '113 sq.m.', '196 sq.m.', '1400 sq.m.', '154 sq.m.', '195 sq.m.', '180 sq.m.', '188 sq.m.', '232 sq.m.', '300 sq.m.', '26 sq.m.', '35 sq.m.', '129 sq.m.', '21 sq.m.', '155 sq.m.', '193 sq.m.', '28 sq.m.', '162 sq.m.', '143 sq.m.', '280 sq.m.', '226 sq.m.', '25 sq.m.', '264 sq.m.', '760 sq.m.', '141 sq.m.', '152 sq.m.', '480 sq.m.', '29 sq.m.', '126 sq.m.', '137 sq.m.', '156 sq.m.', '151 sq.m.', '450 sq.m.', '20 sq.m.', '161 sq.m.', '17 sq.m.', '121 sq.m.', '144 sq.m.', '254 sq.m.', '99 sq.m.', '5140 sq.m.', '1000 sq.m.', '215 sq.m.', '231 sq.m.', '23 sq.m.', '163 sq.m.', '167 sq.m.', '148 sq.m.', '233 sq.m.', '190 sq.m.', '267 sq.m.', '418 sq.m.', '276 sq.m.', '285 sq.m.', '158 sq.m.', '320 sq.m.', '131 sq.m.', '149 sq.m.', '24 sq.m.', '22 sq.m.', '248 sq.m.', '270 sq.m.', '405 sq.m.', '177 sq.m.', '157 sq.m.', '176 sq.m.', '153 sq.m.', '290 sq.m.', '224 sq.m.', '207 sq.m.', '197 sq.m.', '400 sq.m.', '273 sq.m.', '750 sq.m.', '366 sq.m.', '288 sq.m.', '181 sq.m.', '192 sq.m.', '189 sq.m.', '201 sq.m.', '307 sq.m.', '212 sq.m.', '258 sq.m.', '147 sq.m.', '220 sq.m.', '146 sq.m.', '27 sq.m.', '225 sq.m.', '169 sq.m.', '182 sq.m.', '173 sq.m.', '208 sq.m.', '430 sq.m.', '247 sq.m.', '14 sq.m.', '234 sq.m.', '610 sq.m.', '243 sq.m.', '187 sq.m.', '168 sq.m.', '174 sq.m.', '171 sq.m.', '164 sq.m.', '203 sq.m.', '202 sq.m.', '330 sq.m.', '275 sq.m.', '373 sq.m.', '209 sq.m.', '308 sq.m.', '211 sq.m.', '800 sq.m.', '271 sq.m.', '15 sq.m.', '345 sq.m.', '265 sq.m.', '261 sq.m.', '223 sq.m.', '199 sq.m.', '205 sq.m.', '1620 sq.m.', '714 sq.m.', '227 sq.m.', '301 sq.m.', '241 sq.m.', '204 sq.m.', '5 sq.m.', '19 sq.m.', '186 sq.m.', '268 sq.m.', '240 sq.m.', '277 sq.m.', '315 sq.m.', '191 sq.m.', '238 sq.m.', '159 sq.m.', '218 sq.m.', '8 sq.m.', '198 sq.m.', '260 sq.m.', '590 sq.m.', '980 sq.m.', '216 sq.m.', '650 sq.m.', '166 sq.m.', '245 sq.m.', '500 sq.m.', '219 sq.m.', '282 sq.m.', '284 sq.m.', '16 sq.m.', '269 sq.m.', '242 sq.m.', '350 sq.m.', '246 sq.m.', '184 sq.m.', '310 sq.m.', '222 sq.m.', '239 sq.m.', '534 sq.m.', '236 sq.m.', '298 sq.m.', '305 sq.m.', '294 sq.m.', '323 sq.m.', '560 sq.m.', '587 sq.m.', '287 sq.m.', '675 sq.m.', '365 sq.m.']\n",
      "Parking values: ['Outdoor parking', 'Unknown', 'Outdoor parking, garage', 'Covered parking', 'Outdoor parking, covered parking', 'Garage', 'Covered parking, garage', 'Outdoor parking, covered parking, garage']\n",
      "Construction Type values: ['Panels', 'Stone', 'Monolith', 'Bricks', 'Cassette', 'Wooden']\n",
      "Number of Bathrooms values: ['1', '2', '3+']\n",
      "Balcony values: ['Not available', 'Multiple balconies', 'Closed balcony', 'Open balcony']\n",
      "Elevator values: ['Available', 'Not available']\n",
      "Floors in the Building values: ['9', '16', '5', '10', '4', '3', '8', '11', '14', '21', '15', '6', '23', '1', '7', '18', '12', '20', '13', '17', '2', '32+', '19', '22', '30', '24', '25']\n",
      "Window Views values: ['Yard view', 'Unknown', 'Yard view, street view, city view, view of Ararat', 'Yard view, street view', 'Yard view, street view, city view', 'Yard view, street view, city view, park view, view of Ararat', 'City view, park view', 'Yard view, city view, view of Ararat', 'Street view, city view', 'Yard view, street view, park view', 'Yard view, park view', 'Yard view, city view, park view, view of Ararat', 'Yard view, street view, city view, park view', 'Yard view, city view, park view', 'Street view, city view, park view, view of Ararat', 'City view', 'City view, view of Ararat', 'Yard view, park view, view of Ararat', 'Yard view, city view', 'Street view', 'Yard view, view of Ararat', 'Yard view, street view, park view, view of Ararat', 'Street view, city view, view of Ararat', 'City view, park view, view of Ararat', 'Street view, city view, park view', 'Yard view, street view, view of Ararat', 'Park view', 'Park view, view of Ararat', 'View of Ararat', 'Street view, park view', 'Street view, park view, view of Ararat', 'Street view, view of Ararat']\n"
     ]
    }
   ],
   "source": [
    "possible_attributes_list = list(\n",
    "    set(\n",
    "        [\n",
    "            j.replace('[(', '').replace(')]', '').replace('(', '').\\\n",
    "            replace(\"'\", '').split(',')[0].strip()\n",
    "            for i in range(df.shape[0]) \n",
    "            for j in df.iloc[i]['attributes'].split('),')\n",
    "        ]\n",
    "    )\n",
    ")\n",
    "\n",
    "def split_attributes(x):\n",
    "    attrs_tuple_list = x.split('),')\n",
    "    attrs_tuple_list = [\n",
    "        i.replace('[(', '').replace(')]', '').replace('(', '').\\\n",
    "        replace(\"'\", '').split(',') \n",
    "        for i in attrs_tuple_list\n",
    "    ]\n",
    "    attrs_dict = {i[0].strip(): ', '.join([j.strip() for j in i[1:]]) for i in attrs_tuple_list}\n",
    "    return attrs_dict\n",
    "\n",
    "\n",
    "for possible_attribute in possible_attributes_list:\n",
    "    df[possible_attribute] = df['attributes'].apply(\n",
    "        lambda x: split_attributes(x)[possible_attribute] \n",
    "        if possible_attribute in split_attributes(x) \n",
    "        else 'Unknown'\n",
    "    )\n",
    "    print(f\"{possible_attribute} values: {list(df[possible_attribute].unique())}\")\n",
    "\n",
    "df.drop(columns='attributes', inplace=True)\n"
   ]
  },
  {
   "cell_type": "markdown",
   "metadata": {},
   "source": [
    "#### Parking splitting"
   ]
  },
  {
   "cell_type": "code",
   "execution_count": 11,
   "metadata": {},
   "outputs": [
    {
     "name": "stdout",
     "output_type": "stream",
     "text": [
      "covered parking values: [0, 1]\n",
      "outdoor parking values: [1, 0]\n",
      "garage values: [0, 1]\n"
     ]
    }
   ],
   "source": [
    "possible_parking_list = list(set(', '.join([i.lower().strip() for i in df['Parking'].unique()]).split(',')))\n",
    "possible_parking_list = list(set([i.strip() for i in possible_parking_list if i.strip()!='unknown']))\n",
    "\n",
    "def get_window_view_list(x):\n",
    "    if len(x.split(',')) > 1:\n",
    "        return [i.lower().strip() for i in x.split(',')]\n",
    "    else:\n",
    "        return [x.lower().strip()]\n",
    "\n",
    "for possible_parking in possible_parking_list:\n",
    "    df[possible_parking] = df['Parking'].apply(lambda x: 1 if possible_parking in get_window_view_list(x) else 0)\n",
    "    print(f\"{possible_parking} values: {list(df[possible_parking].unique())}\")\n",
    "\n",
    "df.drop(columns='Parking', inplace=True)"
   ]
  },
  {
   "cell_type": "markdown",
   "metadata": {},
   "source": [
    "#### Appliances splitting"
   ]
  },
  {
   "cell_type": "code",
   "execution_count": 12,
   "metadata": {},
   "outputs": [
    {
     "name": "stdout",
     "output_type": "stream",
     "text": [
      "air conditioner values: [1, 0]\n",
      "dishwasher values: [0, 1]\n",
      "washing machine values: [1, 0]\n",
      "fridge values: [1, 0]\n",
      "drying machine values: [0, 1]\n",
      "stove values: [1, 0]\n"
     ]
    }
   ],
   "source": [
    "possible_appliances_list = list(set(', '.join([i.lower().strip() for i in df['Appliances'].unique()]).split(',')))\n",
    "possible_appliances_list = list(set([i.strip() for i in possible_appliances_list if i.strip()!='unknown']))\n",
    "\n",
    "def get_window_view_list(x):\n",
    "    if len(x.split(',')) > 1:\n",
    "        return [i.lower().strip() for i in x.split(',')]\n",
    "    else:\n",
    "        return [x.lower().strip()]\n",
    "\n",
    "for possible_appliance in possible_appliances_list:\n",
    "    df[possible_appliance] = df['Appliances'].apply(lambda x: 1 if possible_appliance in get_window_view_list(x) else 0)\n",
    "    print(f\"{possible_appliance} values: {list(df[possible_appliance].unique())}\")\n",
    "\n",
    "df.drop(columns='Appliances', inplace=True)"
   ]
  },
  {
   "cell_type": "markdown",
   "metadata": {},
   "source": [
    "#### creating a new category for Elevator feature"
   ]
  },
  {
   "cell_type": "code",
   "execution_count": 13,
   "metadata": {},
   "outputs": [],
   "source": [
    "df['Elevator'] = df['Elevator'].apply(lambda x: 'absent' if x.lower() in ['unknown', 'not available'] else x.lower())"
   ]
  },
  {
   "cell_type": "markdown",
   "metadata": {},
   "source": [
    "#### creating a new category for Furniture feature"
   ]
  },
  {
   "cell_type": "code",
   "execution_count": 14,
   "metadata": {},
   "outputs": [],
   "source": [
    "df['Furniture'] = df['Furniture'].apply(lambda x: 'absent' if x.lower() in ['unknown', 'not available', 'by agreement'] else x.lower())"
   ]
  },
  {
   "cell_type": "markdown",
   "metadata": {},
   "source": [
    "#### Window Views splitting"
   ]
  },
  {
   "cell_type": "code",
   "execution_count": 15,
   "metadata": {},
   "outputs": [
    {
     "name": "stdout",
     "output_type": "stream",
     "text": [
      "park view values: [0, 1]\n",
      "street view values: [0, 1]\n",
      "view of Ararat values: [0, 1]\n",
      "yard view values: [1, 0]\n",
      "city view values: [0, 1]\n"
     ]
    }
   ],
   "source": [
    "possible_window_view_list = list(set(', '.join([i.lower().strip() for i in df['Window Views'].unique()]).split(',')))\n",
    "possible_window_view_list = list(set([i.strip().replace('ararat', 'Ararat') for i in possible_window_view_list if i.strip()!='unknown']))\n",
    "\n",
    "def get_window_view_list(x):\n",
    "    if len(x.split(',')) > 1:\n",
    "        return [i.lower().strip().replace('ararat', 'Ararat') for i in x.split(',')]\n",
    "    else:\n",
    "        return [x.lower().strip().replace('ararat', 'Ararat')]\n",
    "\n",
    "for possible_window_view in possible_window_view_list:\n",
    "    df[possible_window_view] = df['Window Views'].apply(lambda x: 1 if possible_window_view in get_window_view_list(x) else 0)\n",
    "    print(f\"{possible_window_view} values: {list(df[possible_window_view].unique())}\")\n",
    "\n",
    "df.drop(columns='Window Views', inplace=True)"
   ]
  },
  {
   "cell_type": "markdown",
   "metadata": {},
   "source": [
    "#### creating new category for Renovation feature"
   ]
  },
  {
   "cell_type": "code",
   "execution_count": 16,
   "metadata": {},
   "outputs": [],
   "source": [
    "df['Renovation'] = df['Renovation'].apply(lambda x: 'absent' if x.lower() in ['unknown', 'no renovation'] else x.lower())"
   ]
  },
  {
   "cell_type": "markdown",
   "metadata": {},
   "source": [
    "#### Floor Area extraction"
   ]
  },
  {
   "cell_type": "code",
   "execution_count": 17,
   "metadata": {},
   "outputs": [],
   "source": [
    "def get_sqm(x):\n",
    "    try:\n",
    "        return int(re.findall(r'\\d?\\d?\\d?\\.?\\d?\\d?', x)[0])\n",
    "    except:\n",
    "        return 999\n",
    "    \n",
    "df['Floor Area'] = df['Floor Area'].apply(get_sqm)"
   ]
  },
  {
   "cell_type": "markdown",
   "metadata": {},
   "source": [
    "#### Floors in the Building extraction"
   ]
  },
  {
   "cell_type": "code",
   "execution_count": 18,
   "metadata": {},
   "outputs": [],
   "source": [
    "def get_building_floors_num(x):\n",
    "    try:\n",
    "        return int(re.findall(r'\\d?\\d?', x)[0])\n",
    "    except:\n",
    "        return 999\n",
    "    \n",
    "df['Floors in the Building'] = df['Floors in the Building'].apply(get_building_floors_num)"
   ]
  },
  {
   "cell_type": "markdown",
   "metadata": {},
   "source": [
    "#### creating a new category in Balcony feature"
   ]
  },
  {
   "cell_type": "code",
   "execution_count": 19,
   "metadata": {},
   "outputs": [],
   "source": [
    "df['Balcony'] = df['Balcony'].apply(lambda x: 'absent' if x.lower() in ['unknown', 'not available'] else x.lower())"
   ]
  },
  {
   "cell_type": "markdown",
   "metadata": {},
   "source": [
    "#### Ceiling height extraction"
   ]
  },
  {
   "cell_type": "code",
   "execution_count": 20,
   "metadata": {},
   "outputs": [],
   "source": [
    "def get_ceiling_height(x):\n",
    "    try:\n",
    "        return float(re.findall(r'\\d.?\\d?\\d?', x)[0])\n",
    "    except:\n",
    "        return 999\n",
    "    \n",
    "df['Ceiling Height'] = df['Ceiling Height'].apply(get_ceiling_height)"
   ]
  },
  {
   "cell_type": "markdown",
   "metadata": {},
   "source": [
    "#### Floor extraction"
   ]
  },
  {
   "cell_type": "code",
   "execution_count": 21,
   "metadata": {},
   "outputs": [],
   "source": [
    "def get_floor_num(x):\n",
    "    try:\n",
    "        return int(re.findall(r'\\d?\\d?', x)[0])\n",
    "    except:\n",
    "        return 999\n",
    "    \n",
    "df['Floor'] = df['Floor'].apply(get_floor_num)"
   ]
  },
  {
   "cell_type": "markdown",
   "metadata": {},
   "source": [
    "#### \"The House Has\" column splitting"
   ]
  },
  {
   "cell_type": "code",
   "execution_count": 22,
   "metadata": {},
   "outputs": [
    {
     "name": "stdout",
     "output_type": "stream",
     "text": [
      "concierge values: [0, 1]\n",
      "intercom entry values: [0, 1]\n",
      "playground values: [0, 1]\n"
     ]
    }
   ],
   "source": [
    "possible_has_list = list(set(', '.join([i.lower() for i in df['The House Has'].unique()]).split(',')))\n",
    "possible_has_list = list(set([i.strip() for i in possible_has_list if i.strip()!='unknown']))\n",
    "\n",
    "def get_has_list(x):\n",
    "    if len(x.split(',')) > 1:\n",
    "        return [i.lower().strip() for i in x.split(',')]\n",
    "    else:\n",
    "        return [x.lower().strip()]\n",
    "\n",
    "for possible_has in possible_has_list:\n",
    "    df[possible_has] = df['The House Has'].apply(lambda x: 1 if possible_has in get_has_list(x) else 0)\n",
    "    print(f\"{possible_has} values: {list(df[possible_has].unique())}\")\n",
    "\n",
    "df.drop(columns='The House Has', inplace=True)"
   ]
  },
  {
   "cell_type": "markdown",
   "metadata": {},
   "source": [
    "### Getting square meter prices"
   ]
  },
  {
   "cell_type": "code",
   "execution_count": 23,
   "metadata": {},
   "outputs": [],
   "source": [
    "# removing rows where floor area is missing\n",
    "df = df[df['Floor Area']!=999].reset_index(drop=True)\n",
    "\n",
    "df['usd_price'] = df['usd_price'].apply(float)\n",
    "\n",
    "df['sqm_price_usd'] =  df['usd_price'] / df['Floor Area']\n",
    "# df['sqm_price_amd'] = df['amd_price'] / df['Floor Area']\n",
    "# df['sqm_price_rub'] = df['rub_price'] / df['Floor Area']\n",
    "\n",
    "df.drop(columns=['usd_price', 'amd_price', 'rub_price'], inplace=True)"
   ]
  },
  {
   "cell_type": "markdown",
   "metadata": {},
   "source": [
    "### \"Tuning\" seller_type feature"
   ]
  },
  {
   "cell_type": "code",
   "execution_count": 24,
   "metadata": {},
   "outputs": [
    {
     "name": "stderr",
     "output_type": "stream",
     "text": [
      "C:\\Users\\vchar\\AppData\\Local\\Temp\\ipykernel_14552\\2794963514.py:1: FutureWarning: A value is trying to be set on a copy of a DataFrame or Series through chained assignment using an inplace method.\n",
      "The behavior will change in pandas 3.0. This inplace method will never work because the intermediate object on which we are setting values always behaves as a copy.\n",
      "\n",
      "For example, when doing 'df[col].method(value, inplace=True)', try using 'df.method({col: value}, inplace=True)' or df[col] = df[col].method(value) instead, to perform the operation inplace on the original object.\n",
      "\n",
      "\n",
      "  df['seller_type'].fillna('individual', inplace=True)\n"
     ]
    }
   ],
   "source": [
    "df['seller_type'].fillna('individual', inplace=True)\n",
    "df['seller_type'] = df['seller_type'].apply(lambda x: 'agency' if 'Agency' in x else 'individual')"
   ]
  },
  {
   "cell_type": "markdown",
   "metadata": {},
   "source": [
    "### Dealing with the estate_id"
   ]
  },
  {
   "cell_type": "code",
   "execution_count": 25,
   "metadata": {},
   "outputs": [],
   "source": [
    "df['estate_id'] = df['estate_id'].apply(lambda x: int(x.replace('/en/item/', '')))"
   ]
  },
  {
   "cell_type": "markdown",
   "metadata": {},
   "source": [
    "### Showing possible places_nearby and removing the feature"
   ]
  },
  {
   "cell_type": "code",
   "execution_count": 26,
   "metadata": {},
   "outputs": [
    {
     "data": {
      "text/plain": [
       "['Cascade',\n",
       " 'Vartanants Square',\n",
       " 'Yerevan Mall',\n",
       " 'Republic Square',\n",
       " 'Victory Park',\n",
       " 'Gortsaranayin Metro Station',\n",
       " 'Yerevan Railway Station',\n",
       " 'Marshal Baghramyan Metro Station',\n",
       " 'Opera Theatre',\n",
       " 'Orange Fitness Premium Club',\n",
       " 'Garegin Nzhdeh Square',\n",
       " 'Yeritasardakan Metro Station',\n",
       " 'Yerevan State Medical University',\n",
       " 'Lovers Park',\n",
       " 'Vernissage',\n",
       " 'Saint Gregory the Illuminator Cathedral',\n",
       " 'Russian-Armenian University',\n",
       " 'General Andranik Metro Station',\n",
       " 'Barekamutyun Metro Station',\n",
       " 'Shengavit Metro Station',\n",
       " 'Matenadaran',\n",
       " 'Reebok Sports Club',\n",
       " 'Dalma Garden Mall',\n",
       " 'Kievyan Bridge']"
      ]
     },
     "execution_count": 26,
     "metadata": {},
     "output_type": "execute_result"
    }
   ],
   "source": [
    "places_by_list = list(\n",
    "    set(\n",
    "        [\n",
    "            j.strip() for i in range(df.shape[0]) \n",
    "            for j in df.iloc[i]['places_nearby'].split(';') \n",
    "            if j!='Unknown'\n",
    "        ]\n",
    "    )\n",
    ")\n",
    "places_by_list"
   ]
  },
  {
   "cell_type": "code",
   "execution_count": 27,
   "metadata": {},
   "outputs": [],
   "source": [
    "df.drop(columns='places_nearby', inplace=True)"
   ]
  },
  {
   "cell_type": "markdown",
   "metadata": {},
   "source": [
    "### Dealing with address feature"
   ]
  },
  {
   "cell_type": "code",
   "execution_count": 139,
   "metadata": {},
   "outputs": [],
   "source": [
    "# df[df['address'].apply(lambda x: True if 'Yerevan Highway' in x else False)]"
   ]
  },
  {
   "cell_type": "code",
   "execution_count": 28,
   "metadata": {},
   "outputs": [],
   "source": [
    "region_map_dict = {\n",
    "    'Երևան': 'Yerevan', 'Հրազդան': 'Hrazdan', 'Վանաձոր': 'Vanadzor',\n",
    "    'Ереван': 'Yerevan', 'Աբովյան': 'Abovyan', 'Առինջ': 'Arinj',\n",
    "    'Արտաշատ': 'Artashat', 'Ծաղկաձոր': 'Tsaghkadzor', 'Արարատ': 'Ararat',\n",
    "    'Չարենցավան': 'Charentsavan', 'Մասիս': 'Masis', 'Քասախ': 'Qasakh',\n",
    "    'Lorri': 'Lori', 'Гюмри': 'Gyumri', 'Սևան': 'Sevan', 'Ванадзор': 'Vanadzor',\n",
    "    'Ախուրյան': 'Akhuryan', 'Էջմիածին քաղաք': 'Vagharshapat', 'Մարտունի': 'Martuni', \n",
    "    'Նոր Գեղի': 'Nor Geghi', 'Մերձավան': 'Merdzavan', 'Раздан': 'Hrazdan',\n",
    "    'Ավան': 'Avan', 'Мецамор': 'Metsamor', 'Դիլիջան': 'Dilijan', 'Ջերմուկ': 'Jermuk',\n",
    "    'Եղվարդ': 'Yeghvard', 'Նոր Հաճըն': 'Nor Hachin', 'Абовян': 'Abovyan', \n",
    "    'Արմավիր': 'Armavir', 'Բյուրեղավան': 'Byureghavan', 'Зовуни': 'Zovuni', \n",
    "    'Գյումրի': 'Gyumri', 'Вагаршапат': 'Vagharshapat', 'Դաշտավան': 'Dashtavan', \n",
    "    'Էջմիածին': 'Vagharshapat', 'Ташир': 'Tashir', 'Ехвард': 'Yeghvard', 'Փշատավան': 'Pshatavan', \n",
    "    'Աշտարակ': 'Ashtarak', 'Ejmiatsin': 'Vagharshapat', 'Վեդի': 'Vedi', \n",
    "    'Վարդենիս': 'Vardenis', 'Փարաքար': 'Parakar', 'Սիսիան': 'Sisian', 'Գավառ': 'Gavar',\n",
    "    'Շահումյան': 'Shahumyan', 'Վաղարշապատ': 'Vagharshapat', 'Քաջարան': 'Qajaran',\n",
    "    'Իջևան': 'Ijevan', 'Ջրվեժ': 'Jrvej', 'Կապան': 'Kapan', 'Ապարան': 'Aparan', \n",
    "    'Արթիկ': 'Artik', 'Թաիրով': 'Tairov', 'Арташат': 'Artashat', 'Մոնթեավան': 'Monteavan', \n",
    "    'Գորիս': 'Goris', 'Ավշար': 'Avshar', 'Զովունի': 'Zovuni', 'Масис': 'Masis'\n",
    "}"
   ]
  },
  {
   "cell_type": "code",
   "execution_count": 29,
   "metadata": {},
   "outputs": [
    {
     "data": {
      "text/plain": [
       "array(['Yerevan', 'Shirak', 'Hrazdan', 'Zovuni', 'Vanadzor', 'Kotayk',\n",
       "       'Abovyan', 'Arinj', 'Gyumri', 'Artashat', 'Tsaghkadzor',\n",
       "       'ՔՇՀ-4 22', 'Ararat', 'U', '3-րդ թաղամաս', 'Masis', 'Vagharshapat',\n",
       "       'Armavir', 'Qasakh', 'Lori', 'Sevan', 'Aragatsotn', 'Akhuryan',\n",
       "       'Yerevan Highway', 'Tavush', 'Martuni', 'Nor Geghi', 'Merdzavan',\n",
       "       'Artaxata (Artashat)', 'Avan', 'Metsamor', 'Dilijan', 'Jermuk',\n",
       "       'Yeghvard', 'Nor Hachin', 'Spitak', 'Charentsavan', 'Byureghavan',\n",
       "       'Dashtavan', 'Tashir', 'Garni', 'Ashtarak', 'Pshatavan', 'Syunik',\n",
       "       'Sevan town', 'Vedi', 'Mrgashen village', 'Vayots Dzor',\n",
       "       'Vardenis', 'Parakar', 'Sisian', 'Gavar', 'Shahumyan', 'Qajaran',\n",
       "       'Vayk', 'Ijevan', '26 St', 'Jrvej', 'Նոր Նորքի 9-րդ զանգված',\n",
       "       'Kapan', 'Aparan', 'Artik', 'Gegharkunik', 'Tairov', 'Monteavan',\n",
       "       'Goris', 'Avshar', 'Argavand', '8-й район', 'Մարմարաշեն',\n",
       "       'Նոր Հաճն', 'Մեծամոր', 'Ազատավան', 'Араксаван', 'Օգոստոսի',\n",
       "       'Shiraz', 'Nor Nork 9th massive', 'Եղեգնաձոր', 'Տաշիր',\n",
       "       '4 թաղամաս 25', '1 St 6', 'Թալին քաղաք', 'Алаверди', 'Ագարակ',\n",
       "       '1district', '2 block', 'Մարալիկ', 'Балаовит', 'Գառնի', 'Джермук',\n",
       "       'Արգիշտի', 'Արամուս', 'Ստեփանավան', 'Бюрегаван', 'Гетапня',\n",
       "       'Аштарак', 'Дилиджан', 'Арарат', '25', 'Օձուն', 'Дилижан',\n",
       "       '1 St 63', 'Ալավերդի', 'Բջնի', '9-րդ տաղամաս', 'Էրեբունի համայնք',\n",
       "       'Բյուրավան', 'Proshyan village', 'ГСК-3 9', 'Gai ave', 'Ճամբարակ',\n",
       "       'Чаренцаван', 'Getargel village', 'Dilijan station',\n",
       "       '16-րդ թաղամաս', 'Verin Ptghni', 'Արգավանդ', 'Ոստան', 'Баграмян',\n",
       "       'Цахкадзор', '4-րդ թաղամաս', 'Merdzavan village', 'Բերդ', 'Քուչակ',\n",
       "       'Канакераван', 'Գոռգոչ', 'Սուրենավան', 'Sasunik village',\n",
       "       'Աչաջուր', 'Nor Hachn', 'Норапат', '8-րդ թաղամաս', 'Севан',\n",
       "       'город Эчмиадзин', 'Ձորաղբյուր', 'Սասունիկ', '2-րդ թաղամաս',\n",
       "       'Ариндж'], dtype=object)"
      ]
     },
     "execution_count": 29,
     "metadata": {},
     "output_type": "execute_result"
    }
   ],
   "source": [
    "def split_address(x):\n",
    "    if '›' in x:\n",
    "        split_result = [\n",
    "            region_map_dict[i.strip()] if i.strip() in region_map_dict \n",
    "            else i.strip() for i in x.split('›')\n",
    "        ]\n",
    "        return split_result\n",
    "    else:\n",
    "        comma_split = [\n",
    "            region_map_dict[i.strip()] if i.strip() in region_map_dict\n",
    "            else i.strip() for i in x.split(',')\n",
    "        ]\n",
    "        if len(comma_split) == 1:\n",
    "            return x\n",
    "        else:\n",
    "            if len(comma_split[0]) > len(comma_split[1]):\n",
    "                return comma_split[::-1]\n",
    "            else:\n",
    "                if 'street' in comma_split[0].lower() or 'փողոց' in comma_split[0]:\n",
    "                    return comma_split[::-1]\n",
    "                else:\n",
    "                    return comma_split\n",
    "\n",
    "df['address'].apply(lambda x: split_address(x)[0]).unique()"
   ]
  },
  {
   "cell_type": "markdown",
   "metadata": {},
   "source": [
    "Checking for distribution among regions/cities"
   ]
  },
  {
   "cell_type": "code",
   "execution_count": 33,
   "metadata": {},
   "outputs": [
    {
     "data": {
      "text/plain": [
       "address\n",
       "Yerevan                   21029\n",
       "Vanadzor                    132\n",
       "Kotayk                      132\n",
       "Abovyan                     124\n",
       "Gyumri                      121\n",
       "Armavir                      88\n",
       "Hrazdan                      66\n",
       "Vagharshapat                 65\n",
       "Tsaghkadzor                  55\n",
       "Ararat                       34\n",
       "Shirak                       33\n",
       "Masis                        31\n",
       "Lori                         29\n",
       "Sevan                        25\n",
       "U                            24\n",
       "Dilijan                      23\n",
       "Charentsavan                 23\n",
       "Artashat                     22\n",
       "Ashtarak                     19\n",
       "Gegharkunik                  18\n",
       "Jermuk                       16\n",
       "Zovuni                       14\n",
       "Նոր Նորքի 9-րդ զանգված       13\n",
       "Aragatsotn                   13\n",
       "Syunik                       12\n",
       "Vayots Dzor                  12\n",
       "Name: count, dtype: int64"
      ]
     },
     "execution_count": 33,
     "metadata": {},
     "output_type": "execute_result"
    }
   ],
   "source": [
    "temp_map = (df['address'].apply(lambda x: split_address(x)[0]).value_counts() > 10)\n",
    "df['address'].apply(lambda x: split_address(x)[0]).value_counts()[temp_map]"
   ]
  },
  {
   "cell_type": "markdown",
   "metadata": {},
   "source": [
    "Creating region column"
   ]
  },
  {
   "cell_type": "code",
   "execution_count": 34,
   "metadata": {},
   "outputs": [],
   "source": [
    "df['region'] = df['address'].apply(lambda x: split_address(x)[0])"
   ]
  },
  {
   "cell_type": "markdown",
   "metadata": {},
   "source": [
    "Creating binary features to indicate whether an apartment is Yerevan or not"
   ]
  },
  {
   "cell_type": "code",
   "execution_count": 54,
   "metadata": {},
   "outputs": [],
   "source": [
    "def apply_Yerevan(x):\n",
    "    if 'Երևան' in x or 'Ереван' in x:\n",
    "        return x.replace('Երևան', 'Yerevan').replace('Ереван', 'Yerevan')\n",
    "    else:\n",
    "        return x\n",
    "\n",
    "df['address'] = df['address'].apply(apply_Yerevan)\n",
    "df['is_capital'] = df['address'].apply(lambda x: 1 if 'Yerevan' in x else 0)"
   ]
  },
  {
   "cell_type": "markdown",
   "metadata": {},
   "source": [
    "Checking for street names"
   ]
  },
  {
   "cell_type": "code",
   "execution_count": 143,
   "metadata": {},
   "outputs": [
    {
     "data": {
      "text/plain": [
       "array(['Pushkin Street', 'Yervand Kochar street',\n",
       "       'Shahumyan 1st street 4', ..., 'Квартал Кентрон 47',\n",
       "       'Улица Нвера Сафаряна', 'Հայկ Գյուլիքևխյանի փողոց'], dtype=object)"
      ]
     },
     "execution_count": 143,
     "metadata": {},
     "output_type": "execute_result"
    }
   ],
   "source": [
    "df['address'].apply(lambda x: split_address(x)[1]).unique()"
   ]
  },
  {
   "cell_type": "markdown",
   "metadata": {},
   "source": [
    "Creating Yerevan districts' street names"
   ]
  },
  {
   "cell_type": "code",
   "execution_count": 144,
   "metadata": {},
   "outputs": [],
   "source": [
    "ajapnyak_text = '''Հալաբյան փողոց\n",
    "Գրիգոր Հասրաթյան փողոց\n",
    "Շիրազի փողոց\n",
    "Աշտարակի խճուղի\n",
    "Չաուշի փողոց\n",
    "Սիլիկյան նոր խճուղի\n",
    "Սեբաստիա փողոց\n",
    "Լենինգրադյան փողոց\n",
    "Բեկնազարյան փողոց\n",
    "Բաշինջաղյան փողոց\n",
    "Մազմանյան փողոց\n",
    "Շինարարների փողոց\n",
    "Մարգարյան փողոց\n",
    "Աբելյան փողոց'''\n",
    "\n",
    "avan_text = '''Բաբաջանյան փողոց\n",
    "Աճառյան փողոց\n",
    "Ռուբինյանց փողոց\n",
    "Խուդյակովի փողոց\n",
    "Բագրևանդի փողոց'''\n",
    "\n",
    "arabkir_text = '''Բաղրամյան պողոտա\n",
    "Կասյան փողոց\n",
    "Քոչարի փողոց\n",
    "Վաղարշյան փողոց\n",
    "Սարալանջի փողոց\n",
    "Կոմիտասի պողոտա\n",
    "Կիևյան փողոց\n",
    "Ազատության պողոտա\n",
    "Թբիլիսյան խճուղի\n",
    "Օրբելի եղբայրների փողոց\n",
    "Ավետիսյան փողոց\n",
    "Համբարձումյան փողոց\n",
    "Հակոբյան փողոց\n",
    "Խաչատրյան փողոց\n",
    "Գյուլբենկյան փողոց\n",
    "Փափազյան փողոց\n",
    "Մամիկոնյանց փողոց\n",
    "Տիգրանյան փողոց\n",
    "Շահսուվարյան փողոց\n",
    "Վրացական փողոց\n",
    "Բաբայան փողոց\n",
    "Գրիբոյեդովի փողոց\n",
    "Շիրվանզադեի փողոց\n",
    "Զարյան փողոց\n",
    "Ադոնցի փողոց'''\n",
    "\n",
    "davtashen_text = '''Միկոյան փողոց \n",
    "Սասնա Ծռերի փողոց\n",
    "Պետրոսյան փողոց\n",
    "Փիրումյան փողոց\n",
    "Աղաբաբյան փողոց\n",
    "Գևորգյան փողոց'''\n",
    "\n",
    "erebuni_text = '''Տիգրան Մեծի պողոտա\n",
    "Արցախի պողոտա\n",
    "Այվազովսկու փողոց\n",
    "Էրեբունու փողոց\n",
    "Դավիթ Բեկի փողոց\n",
    "Ռոստովյան փողոց\n",
    "Գարեգին Նժդեհի փողոց\n",
    "Խորենացու փողոց\n",
    "Բելինսկու փողոց\n",
    "Ազատամարտիկների պողոտա\n",
    "Արին-Բերդի փողոց\n",
    "Դաշտենցի փողոց\n",
    "Նուբարաշենի խճուղի\n",
    "Սասունցի Դավթի փողոց\n",
    "Խաղաղ Դոնի փողոց\n",
    "Տիտոգրադյան փողոց\n",
    "Աթոյան փողոց'''\n",
    "\n",
    "kentron = '''Բաղրամյան պողոտա\n",
    "Մաշտոցի պողոտա\n",
    "Կորյունի փողոց\n",
    "Սարյան փողոց\n",
    "Ամիրյան փողոց\n",
    "Տիգրան Մեծի պողոտա\n",
    "Խանջյան փողոց\n",
    "Աբովյան փողոց\n",
    "Նալբանդյան փողոց\n",
    "Մոսկովյան փողոց\n",
    "Հերացու փողոց\n",
    "Մյասնիկյան պողոտա\n",
    "Խորենացու փողոց\n",
    "Պռոշյան փողոց\n",
    "Ագաթանգեղոսի փողոց\n",
    "Արշակունյաց պողոտա\n",
    "Իսակովի պողոտա\n",
    "Չարենցի փողոց\n",
    "Նար-Դոսի փողոց\n",
    "Սայաթ-Նովայի պողոտա\n",
    "Ծիծեռնակաբերդի խճուղի\n",
    "Գետառի փողոց\n",
    "Պարոնյան փողոց\n",
    "Սարալանջի փողոց\n",
    "Աթենքի փողոց\n",
    "Գրիգոր Լուսավորչի փողոց\n",
    "Վարդանանց փողոց\n",
    "Իսրայելյան փողոց\n",
    "Ձորափի փողոց\n",
    "Արամի փողոց\n",
    "Բուզանդի փողոց\n",
    "Պուշկինի փողոց\n",
    "Ֆիրդուսի փողոց\n",
    "Զորյանի փողոց\n",
    "Կողբացու փողոց\n",
    "Տպագրիչների փողոց\n",
    "Անտառային փողոց\n",
    "Քաջազնունու փողոց\n",
    "Տերյան փողոց\n",
    "Հանրապետության փողոց\n",
    "Մկրտչյան փողոց \n",
    "Մելիք-Ադամյան փողոց\n",
    "Զաքյան փողոց\n",
    "Լեոյի փողոց\n",
    "Քոչարի փողոց\n",
    "Մանուկյան փողոց\n",
    "Դեմիրճյան փողոց\n",
    "Արգիշտիի փողոց\n",
    "Շարիմանյան փողոց\n",
    "Բեյրութի փողոց\n",
    "Իտալիայի փողոց\n",
    "Սարգսյան փողոց'''\n",
    "\n",
    "malatia_sebastia_text = '''Սեբաստիայի փողոց\n",
    "Ծովակալ Իսակովի պողոտա\n",
    "Բաբաջանյան փողոց\n",
    "Րաֆֆու փողոց\n",
    "Շերամի փողոց\n",
    "Ամերիկյան փողոց\n",
    "Տիչինայի փողոց\n",
    "Օհանովի փողոց\n",
    "Զորավար Անդրանիկի փողոց\n",
    "Լենինգրադյան փողոց\n",
    "Շիրակի փողոց \n",
    "Մալաթիայի փողոց \n",
    "Արարատյան փողոց'''\n",
    "\n",
    "nor_norq_text = '''Գայի պողոտա\n",
    "Մյասնիկյանի պողոտա\n",
    "Թևոսյան փողոց\n",
    "Բագրևանդի փողոց\n",
    "Բ.Մուրադյան փողոց\n",
    "Քոչինյան փողոց\n",
    "Դավիթ Բեկի փողոց\n",
    "Միկոյան փողոց\n",
    "Գյուլիքևխյան փողոց \n",
    "Գյուրջյան փողոց\n",
    "Գալշոյան փողոց\n",
    "Շոպրոնի փողոց\n",
    "Սաֆարյան փողոց'''\n",
    "\n",
    "norq_marash_text = '''Արմենակյան փողոց\n",
    "Հովսեփյան փողոց'''\n",
    "\n",
    "nubarashen_text = '''Նուբարաշենի խճուղի'''\n",
    "\n",
    "shengavit_text = '''Շիրակի փողոց\n",
    "Արտաշեսյան պողոտա\n",
    "Արտաշատի խճուղի\n",
    "Արշակունյաց պողոտա\n",
    "Գագեգին Նժդեհի փողոց\n",
    "Բագրատունյաց փողոց\n",
    "Թամանցիների փողոց\n",
    "Եղբայրության փողոց \n",
    "Մանանդյան փողոց\n",
    "Մանթաշյան փողոց\n",
    "Մայիսի 9-ի փողոց\n",
    "Ֆրունզեի փողոց \n",
    "Չեխովի փողոց\n",
    "Արարատյան փողոց \n",
    "Նորագավիթի 1-ին փողոց'''\n",
    "\n",
    "qanaqer_zeytun_text = '''Դավիթ Անհաղթի փողոց\n",
    "Ռուբինյանց փողոց\n",
    "Սևակի փողոց\n",
    "Զաքարիա Քանաքեռցու փողոց\n",
    "Հասրաթյան փողոց\n",
    "Ուլնեցու փողոց\n",
    "Քանաքեռ 1-ին փողոց'''#/Սարկավագի/"
   ]
  },
  {
   "cell_type": "markdown",
   "metadata": {},
   "source": [
    "Creating Russian to English letters converter dictionary"
   ]
  },
  {
   "cell_type": "code",
   "execution_count": 145,
   "metadata": {},
   "outputs": [
    {
     "name": "stdout",
     "output_type": "stream",
     "text": [
      "{'б': 'b', 'в': 'v', 'г': 'g', 'д': 'd', 'ж': 'jհ', 'з': 'z', 'к': 'k', 'л': 'l', 'м': 'm', 'н': 'n', 'п': 'p', 'р': 'r', 'с': 's', 'т': 't', 'ф': 'f', 'х': 'kh', 'ц': 'ts', 'ч': 'ch', 'ш': 'sh', 'щ': 'sh', 'а': 'a', 'е': 'e', 'ё': 'e', 'и': 'i', 'о': 'o', 'у': 'u', 'ы': 'i', 'э': 'e', 'ю': 'yu', 'я': 'ya', 'й': 'i', 'ъ': '', 'ь': ''}\n"
     ]
    }
   ],
   "source": [
    "temp_text = '''⟨б⟩, ⟨в⟩, ⟨г⟩, ⟨д⟩, ⟨ж⟩, ⟨з⟩, ⟨к⟩, ⟨л⟩, ⟨м⟩, ⟨н⟩, \n",
    "⟨п⟩, ⟨р⟩, ⟨с⟩, ⟨т⟩, ⟨ф⟩, ⟨х⟩, ⟨ц⟩, ⟨ч⟩, ⟨ш⟩, ⟨щ⟩, ⟨а⟩, ⟨е⟩, ⟨ё⟩, \n",
    "⟨и⟩, ⟨о⟩, ⟨у⟩, ⟨ы⟩, ⟨э⟩, ⟨ю⟩, ⟨я⟩, ⟨й⟩, ⟨ъ⟩, ⟨ь⟩'''\n",
    "\n",
    "temp_text = temp_text.replace('⟨', '').replace('⟩', '').replace('\\n', '').split(',')\n",
    "temp_text = [i.strip() for i in temp_text]\n",
    "\n",
    "rus2eng_letters_list = [\n",
    "    'b', 'v', 'g', 'd', 'jհ', 'z', 'k', 'l', 'm', 'n', 'p', \n",
    "    'r', 's', 't', 'f', 'kh', 'ts', 'ch', 'sh', 'sh', 'a', 'e', \n",
    "    'e', 'i', 'o', 'u', 'i', 'e', 'yu', 'ya', 'i', '', ''\n",
    "]\n",
    "\n",
    "rus2eng_letters_dict = {temp_text[i]: rus2eng_letters_list[i] for i in range(len(temp_text))}\n",
    "# rus2eng_letters_dict.update({' ':' '})\n",
    "print(rus2eng_letters_dict)"
   ]
  },
  {
   "cell_type": "markdown",
   "metadata": {},
   "source": [
    "Creating Armenian to English letter conversion dictionary"
   ]
  },
  {
   "cell_type": "code",
   "execution_count": 146,
   "metadata": {},
   "outputs": [
    {
     "name": "stdout",
     "output_type": "stream",
     "text": [
      "{'ա': 'a', 'ճ': 'ch', 'բ': 'b', 'մ': 'm', 'գ': 'g', 'յ': 'y', 'դ': 'd', 'ն': 'n', 'ե': 'e', 'շ': 'sh', 'զ': 'z', 'ո': 'o', 'է': 'e', 'չ': 'ch', 'ը': 'e', 'պ': 'p', 'թ': 't', 'ջ': 'j', 'ժ': 'jh', 'ռ': 'r', 'ի': 'i', 'ս': 's', 'լ': 'l', 'վ': 'v', 'խ': 'kh', 'տ': 't', 'ծ': 'ts', 'ր': 'r', 'կ': 'k', 'ց': 'ts', 'հ': 'h', 'ու': 'u', 'ձ': 'dz', 'փ': 'p', 'ղ': 'gh', 'ք': 'q', 'և': 'ev', 'օ': 'o', 'ֆ': 'f'}\n"
     ]
    }
   ],
   "source": [
    "temp_text = '''ա a,\tճ ch, բ\tb, մ m, գ g, յ y,\n",
    "դ d, ն n, ե\te, շ sh, զ z, ո\to, է e,\tչ ch,\n",
    "ը e, պ p, թ t, ջ j, ժ jh, ռ\tr, ի i, ս s,\n",
    "լ l, վ v, խ\tkh, տ t, ծ ts, ր r, կ k, ց ts,\n",
    "հ h, ու u, ձ dz, փ p, ղ gh, ք q, և ev, օ o,\t\n",
    "ֆ f'''\n",
    "\n",
    "temp_text = temp_text.replace('\\n', '').replace('\\t', ' ').split(',')\n",
    "temp_text = [i.strip().split(' ') for i in temp_text]\n",
    "len(temp_text)\n",
    "\n",
    "arm2eng_letters_dict = {elem[0]: elem[1] for elem in temp_text}\n",
    "# arm2eng_letters_dict.update({' ':' '})\n",
    "print(arm2eng_letters_dict)"
   ]
  },
  {
   "cell_type": "markdown",
   "metadata": {},
   "source": [
    "Creating street-district dictionary"
   ]
  },
  {
   "cell_type": "code",
   "execution_count": 147,
   "metadata": {},
   "outputs": [
    {
     "data": {
      "text/plain": [
       "{'halabyan': 'ajapnyak',\n",
       " 'grigor hasratyan': 'ajapnyak',\n",
       " 'shirazi': 'ajapnyak',\n",
       " 'ashtaraki': 'ajapnyak',\n",
       " 'chaushi': 'ajapnyak',\n",
       " 'silikyan nor': 'ajapnyak',\n",
       " 'sebastia': 'ajapnyak',\n",
       " 'leningradyan': 'malatia_sebastia',\n",
       " 'beknazaryan': 'ajapnyak',\n",
       " 'bashinjaghyan': 'ajapnyak',\n",
       " 'mazmanyan': 'ajapnyak',\n",
       " 'shinararneri': 'ajapnyak',\n",
       " 'margaryan': 'ajapnyak',\n",
       " 'abelyan': 'ajapnyak',\n",
       " 'babajanyan': 'malatia_sebastia',\n",
       " 'acharyan': 'avan',\n",
       " 'rubinyants': 'qanaqer_zeytun',\n",
       " 'khudyakovi': 'avan',\n",
       " 'bagrevandi': 'nor_norq',\n",
       " 'baghramyan': 'kentron',\n",
       " 'kasyan': 'arabkir',\n",
       " 'qochari': 'kentron',\n",
       " 'vagharshyan': 'arabkir',\n",
       " 'saralanji': 'kentron',\n",
       " 'komitasi': 'arabkir',\n",
       " 'kievyan': 'arabkir',\n",
       " 'azatutyan': 'arabkir',\n",
       " 'tbilisyan': 'arabkir',\n",
       " 'orbeli eghbayrneri': 'arabkir',\n",
       " 'avetisyan': 'arabkir',\n",
       " 'hambardzumyan': 'arabkir',\n",
       " 'hakobyan': 'arabkir',\n",
       " 'khachatryan': 'arabkir',\n",
       " 'gyulbenkyan': 'arabkir',\n",
       " 'papazyan': 'arabkir',\n",
       " 'mamikonyants': 'arabkir',\n",
       " 'tigranyan': 'arabkir',\n",
       " 'shahsuvaryan': 'arabkir',\n",
       " 'vratsakan': 'arabkir',\n",
       " 'babayan': 'arabkir',\n",
       " 'griboyedovi': 'arabkir',\n",
       " 'shirvanzadei': 'arabkir',\n",
       " 'zaryan': 'arabkir',\n",
       " 'adontsi': 'arabkir',\n",
       " 'mikoyan': 'nor_norq',\n",
       " 'sasna tsreri': 'davtashen',\n",
       " 'petrosyan': 'davtashen',\n",
       " 'pirumyan': 'davtashen',\n",
       " 'aghababyan': 'davtashen',\n",
       " 'gevorgyan': 'davtashen',\n",
       " 'tigran metsi': 'kentron',\n",
       " 'artsakhi': 'erebuni',\n",
       " 'ayvazovsku': 'erebuni',\n",
       " 'erebunu': 'erebuni',\n",
       " 'davit beki': 'nor_norq',\n",
       " 'rostovyan': 'erebuni',\n",
       " 'garegin njhdehi': 'erebuni',\n",
       " 'khorenatsu': 'kentron',\n",
       " 'belinsku': 'erebuni',\n",
       " 'azatamartikneri': 'erebuni',\n",
       " 'arin-berdi': 'erebuni',\n",
       " 'dashtentsi': 'erebuni',\n",
       " 'nubarasheni': 'nubarashen',\n",
       " 'sasuntsi davti': 'erebuni',\n",
       " 'khaghagh doni': 'erebuni',\n",
       " 'titogradyan': 'erebuni',\n",
       " 'atoyan': 'erebuni',\n",
       " 'mashtotsi': 'kentron',\n",
       " 'koryuni': 'kentron',\n",
       " 'saryan': 'kentron',\n",
       " 'amiryan': 'kentron',\n",
       " 'khanjyan': 'kentron',\n",
       " 'abovyan': 'kentron',\n",
       " 'nalbandyan': 'kentron',\n",
       " 'moskovyan': 'kentron',\n",
       " 'heratsu': 'kentron',\n",
       " 'myasnikyan': 'kentron',\n",
       " 'proshyan': 'kentron',\n",
       " 'agatangeghosi': 'kentron',\n",
       " 'arshakunyats': 'shengavit',\n",
       " 'isakovi': 'kentron',\n",
       " 'charentsi': 'kentron',\n",
       " 'nar-dosi': 'kentron',\n",
       " 'sayat-novayi': 'kentron',\n",
       " 'tsitsernakaberdi': 'kentron',\n",
       " 'getari': 'kentron',\n",
       " 'paronyan': 'kentron',\n",
       " 'atenqi': 'kentron',\n",
       " 'grigor lusavorchi': 'kentron',\n",
       " 'vardanants': 'kentron',\n",
       " 'israyelyan': 'kentron',\n",
       " 'dzorapi': 'kentron',\n",
       " 'arami': 'kentron',\n",
       " 'buzandi': 'kentron',\n",
       " 'pushkini': 'kentron',\n",
       " 'firdusi': 'kentron',\n",
       " 'zoryani': 'kentron',\n",
       " 'koghbatsu': 'kentron',\n",
       " 'tpagrichneri': 'kentron',\n",
       " 'antarayin': 'kentron',\n",
       " 'qajaznunu': 'kentron',\n",
       " 'teryan': 'kentron',\n",
       " 'hanrapetutyan': 'kentron',\n",
       " 'mkrtchyan': 'kentron',\n",
       " 'meliq-adamyan': 'kentron',\n",
       " 'zaqyan': 'kentron',\n",
       " 'leoyi': 'kentron',\n",
       " 'manukyan': 'kentron',\n",
       " 'demirchyan': 'kentron',\n",
       " 'argishtii': 'kentron',\n",
       " 'sharimanyan': 'kentron',\n",
       " 'beyruti': 'kentron',\n",
       " 'italiayi': 'kentron',\n",
       " 'sargsyan': 'kentron',\n",
       " 'sebastiayi': 'malatia_sebastia',\n",
       " 'tsovakal isakovi': 'malatia_sebastia',\n",
       " 'raffu': 'malatia_sebastia',\n",
       " 'sherami': 'malatia_sebastia',\n",
       " 'amerikyan': 'malatia_sebastia',\n",
       " 'tichinayi': 'malatia_sebastia',\n",
       " 'ohanovi': 'malatia_sebastia',\n",
       " 'zoravar andraniki': 'malatia_sebastia',\n",
       " 'shiraki': 'shengavit',\n",
       " 'malatiayi': 'malatia_sebastia',\n",
       " 'araratyan': 'shengavit',\n",
       " 'gayi': 'nor_norq',\n",
       " 'myasnikyani': 'nor_norq',\n",
       " 'tevosyan': 'nor_norq',\n",
       " 'b.muradyan': 'nor_norq',\n",
       " 'qochinyan': 'nor_norq',\n",
       " 'gyuliqevkhyan': 'nor_norq',\n",
       " 'gyurjyan': 'nor_norq',\n",
       " 'galshoyan': 'nor_norq',\n",
       " 'shoproni': 'nor_norq',\n",
       " 'safaryan': 'nor_norq',\n",
       " 'armenakyan': 'norq_marash',\n",
       " 'hovsepyan': 'norq_marash',\n",
       " 'artashesyan': 'shengavit',\n",
       " 'artashati': 'shengavit',\n",
       " 'gagegin njhdehi': 'shengavit',\n",
       " 'bagratunyats': 'shengavit',\n",
       " 'tamantsineri': 'shengavit',\n",
       " 'eghbayrutyan': 'shengavit',\n",
       " 'manandyan': 'shengavit',\n",
       " 'mantashyan': 'shengavit',\n",
       " 'mayisi 9': 'shengavit',\n",
       " 'frunzei': 'shengavit',\n",
       " 'chekhovi': 'shengavit',\n",
       " 'noragaviti 1st': 'shengavit',\n",
       " 'davit anhaghti': 'qanaqer_zeytun',\n",
       " 'sevaki': 'qanaqer_zeytun',\n",
       " 'zaqaria qanaqertsu': 'qanaqer_zeytun',\n",
       " 'hasratyan': 'qanaqer_zeytun',\n",
       " 'ulnetsu': 'qanaqer_zeytun',\n",
       " 'qanaqer 1st': 'qanaqer_zeytun'}"
      ]
     },
     "execution_count": 147,
     "metadata": {},
     "output_type": "execute_result"
    }
   ],
   "source": [
    "district_text_list = [\n",
    "    ajapnyak_text, avan_text, arabkir_text, davtashen_text, erebuni_text, kentron, \n",
    "    malatia_sebastia_text, nor_norq_text, norq_marash_text, nubarashen_text, \n",
    "    shengavit_text, qanaqer_zeytun_text\n",
    "]\n",
    "\n",
    "district_names = [\n",
    "    'ajapnyak', 'avan', 'arabkir', 'davtashen', 'erebuni', 'kentron', \n",
    "    'malatia_sebastia', 'nor_norq', 'norq_marash', 'nubarashen', \n",
    "    'shengavit', 'qanaqer_zeytun'\n",
    "]\n",
    "\n",
    "def convert_arm2eng_street(street):\n",
    "    street = street.lower()\n",
    "    street = list(street)\n",
    "    for idx in range(len(street)):\n",
    "        if idx == 0 and street[idx] == 'ո' and street[idx+1] != 'ւ':\n",
    "            street[idx] = 'vo'\n",
    "        # elif idx == 0 and street[idx] == 'е':\n",
    "        #     street[idx] = 'ye'\n",
    "        elif street[idx] == 'ւ':\n",
    "            street[idx] = ''\n",
    "        elif street[idx] not in arm2eng_letters_dict.keys(): #in [' ', '-', '.', '1', 's', 't', '9']\n",
    "            pass\n",
    "        elif idx < len(street) - 1:\n",
    "            if street[idx] == 'ո' and street[idx+1] == 'ւ':\n",
    "                street[idx] = arm2eng_letters_dict['ու']\n",
    "            else:\n",
    "                street[idx] = arm2eng_letters_dict[street[idx]]\n",
    "        else:\n",
    "            street[idx] = arm2eng_letters_dict[street[idx]]\n",
    "    return ''.join(street)\n",
    "\n",
    "street_district_dict = {}\n",
    "\n",
    "for idx in range(len(district_text_list)):\n",
    "    district_streets = district_text_list[idx].replace('\\n', ',').split(',')\n",
    "    district_streets = [\n",
    "        i.replace('փողոց', '').replace('պողոտա', '').replace('խճուղի', '').\\\n",
    "        replace('1-ին', '1st') .replace('9-ի', '9').strip()\n",
    "        for i in district_streets\n",
    "    ]\n",
    "            \n",
    "    eng_streets = [convert_arm2eng_street(district_street) for district_street in district_streets]\n",
    "    temp_street_district_dict = {street: district_names[idx] for street in eng_streets}\n",
    "    street_district_dict.update(temp_street_district_dict)\n",
    "\n",
    "# street_district_dict.pop('')\n",
    "street_district_dict"
   ]
  },
  {
   "cell_type": "code",
   "execution_count": 148,
   "metadata": {},
   "outputs": [],
   "source": [
    "new_street2district_dict = {\n",
    "    'zakhariya sarkavag': 'qanaqer_zeytun',\n",
    "    'tumanyan': 'kentron',\n",
    "    'shahumyan': 'malatia_sebastia',\n",
    "    'totoventsi': 'nor_norq',\n",
    "    'vilnyus': 'nor_norq',\n",
    "    'sundukyan': 'kentron',\n",
    "    'eghishe tadevosyan': 'shengavit',\n",
    "    'artashisyan': 'shengavit',\n",
    "    'duryan': 'avan',\n",
    "    'zakaria sarkavag': 'qanaqer_zeytun',\n",
    "    'sayat nova': 'kentron',\n",
    "    'karakhanyan': 'nor_norq',\n",
    "    'mikhail chailakhyan': 'kentron',\n",
    "    'gogoli': 'qanaqer_zeytun',\n",
    "    'nor aresh': 'erebuni',\n",
    "    'moldovakan': 'nor_norq',\n",
    "    'orbeli brothers': 'kentron',\n",
    "    'khorenatsi': 'kentron',\n",
    "    'movses khorenatsi': 'kentron',\n",
    "    'dro': 'qanaqer_zeytun',\n",
    "    'arno babajanian': 'malatia_sebastia',\n",
    "    'gulakyan': 'kentron',\n",
    "    'lepsius': 'qanaqer_zeytun',\n",
    "    'tbilisian': 'qanaqer_zeytun',\n",
    "    'tsarav aghbyuri': 'avan',\n",
    "    'frik': 'kentron',\n",
    "    'raffi': 'malatia_sebastia',\n",
    "    'arghutyan': 'arabkir',\n",
    "    'luxemburg': 'nor_norq',\n",
    "    'kajaznuni': 'kentron',\n",
    "    'sisakyan': 'ajapnyak',\n",
    "    'bryusov': 'kentron', \n",
    "    'gai': 'nor_norq', \n",
    "    'sisvan': 'kentron', \n",
    "    'vardashen': 'erebuni', \n",
    "    'tamanyan': 'kentron',\n",
    "    'melik melikyan': 'qanaqer_zeytun',\n",
    "    'qeri': 'arabkir', \n",
    "    'zaqyan': 'kentron',\n",
    "    'melkumov': 'davtashen', \n",
    "    'arghutyan': 'arabkir', \n",
    "    'avet': 'kentron',\n",
    "    'avet avetisyan': 'kentron', \n",
    "    'arshakuniats': 'kentron',  \n",
    "    'gyulikekhvyan': 'nor_norq',\n",
    "    'rubiniants': 'qanaqer_zeytun', \n",
    "    'davit malyan': 'avan',\n",
    "    'sharuri': 'shengavit', \n",
    "    'chaykovski': 'kentron', \n",
    "    'bakunts': 'nor_norq', \n",
    "    'erznkyan': 'kentron', \n",
    "    'zavaryan': 'kentron',\n",
    "    'hunan': 'erebuni', \n",
    "    'lvovyan': 'nor_norq', \n",
    "    'kristapor': 'kentron',\n",
    "    'aghbyur serob': 'kentron', \n",
    "    'margarian': 'ajapnyak', \n",
    "    'kurghinyan': 'malatia_sebastia', \n",
    "    'avanesov': 'erebuni', \n",
    "    'byuzand': 'kentron',\n",
    "    'hyusisayin': 'kentron', \n",
    "    'ulnetsi': 'qanaqer_zeytun', \n",
    "    'khaghag don': 'erebuni', \n",
    "    'leo': 'kentron',\n",
    "    'hovsep emin': 'arabkir', \n",
    "    'nansen': 'nor_norq', \n",
    "    'babadjհanyana': 'avan',\n",
    "    'malkhasyants': 'arabkir', \n",
    "    'rostom': 'kentron', \n",
    "    'hrachya nersisyan': 'qanaqer_zeytun', \n",
    "    'koghbaci': 'kentron',\n",
    "    'parpetsu': 'kentron', \n",
    "    'aharonyan': 'qanaqer_zeytun', \n",
    "    'mari': 'nor_norq',\n",
    "    'shovroyan': 'qanaqer_zeytun', \n",
    "    'baghyan': 'nor_norq', \n",
    "    'minsk': 'nor_norq',\n",
    "    'tolbukhin': 'qanaqer_zeytun', \n",
    "    'minas': 'qanaqer_zeytun', \n",
    "    'kokhbatsi': 'kentron', \n",
    "    'deghatan': 'kentron',\n",
    "    'khanzadyan': 'nor_norq', \n",
    "    'meliq meliqyan': 'qanaqer_zeytun', \n",
    "    'sasnatsrer': 'arabkir',\n",
    "    'aragats': 'shengavit', \n",
    "    'nizami': 'shengavit', \n",
    "    'avanesov': 'kentron', \n",
    "    'aghayan': 'kentron',\n",
    "    'monte melkonyan': 'ajapnyak_text', \n",
    "    'yekmalyan': 'kentron', \n",
    "    'malatia': 'malatia_sebastia', \n",
    "    'isabekyan': 'nor_norq', \n",
    "    'isahakyan': 'kentron', \n",
    "    'quchak': 'malatia_sebastia'\n",
    "}\n",
    "\n",
    "street_district_dict.update(new_street2district_dict)"
   ]
  },
  {
   "cell_type": "markdown",
   "metadata": {},
   "source": [
    "Keeping only Yerevan apartments"
   ]
  },
  {
   "cell_type": "code",
   "execution_count": 149,
   "metadata": {},
   "outputs": [],
   "source": [
    "def apply_Yerevan(x):\n",
    "    if 'Երևան' in x or 'Ереван' in x:\n",
    "        return x.replace('Երևան', 'Yerevan').replace('Ереван', 'Yerevan')\n",
    "    else:\n",
    "        return x\n",
    "\n",
    "df['address'] = df['address'].apply(apply_Yerevan)\n",
    "df = df[df['address'].apply(lambda x: True if 'Yerevan' in x else False)].reset_index(drop=True)"
   ]
  },
  {
   "cell_type": "code",
   "execution_count": 150,
   "metadata": {},
   "outputs": [],
   "source": [
    "# df['address'].apply(get_street)[df['address'].apply(lambda x: True if 'улица' in x.lower() else False)]"
   ]
  },
  {
   "cell_type": "markdown",
   "metadata": {},
   "source": [
    "#### Getting district names"
   ]
  },
  {
   "cell_type": "code",
   "execution_count": 151,
   "metadata": {},
   "outputs": [
    {
     "data": {
      "text/plain": [
       "0                pushkin\n",
       "1         yervand kochar\n",
       "2          shahumyan 1st\n",
       "3             մոլդովական\n",
       "4             vardanants\n",
       "              ...       \n",
       "6673         tpagrichner\n",
       "6674    yeznik koghbatsi\n",
       "6675    zoravar andranik\n",
       "6676       davtashen 4th\n",
       "6677           margarian\n",
       "Name: street_name, Length: 6678, dtype: object"
      ]
     },
     "execution_count": 151,
     "metadata": {},
     "output_type": "execute_result"
    }
   ],
   "source": [
    "def get_street(x):\n",
    "    x = x.replace('Երևան', '').replace('Yerevan', '').replace('Ереван', '').\\\n",
    "        replace(' Ave', 'Avenue').replace(' St', 'Street').replace('srteet', 'street')\n",
    "    try:\n",
    "        street_tuple = re.findall(\n",
    "            r'улица(.*)|(.*)նրբ.|шоссе(.*)|(.*)блок|(.*)անցուղի|(.*)deadlock|(.*)ավտոմայրուղի|(.*)lane|(.*)квартал|(.*)զանգված|(.*)փակուղի|(.*)quarter|(.*)avenu|(.*)district|(.*)street|(.*)փողոց|(.*)highway|(.*)avenue|(.*)block|(.*)թաղամաս|(.*)վարչական շրջան|(.*)պողոտա|(.*)խճուղի|проспект(.*)|переулок(.*)|(.*)նրբանցք', \n",
    "            x.lower()\n",
    "        )[0]\n",
    "        street = ''.join(list(street_tuple)).strip()\n",
    "        return street\n",
    "    except: \n",
    "        if '›' in x:\n",
    "            return ''.join(x.lower().split('›')).strip()\n",
    "        elif 'Avan-Arinj' in x or 'Ավան-Առինջ' in x:\n",
    "            return 'avan-arinj'\n",
    "        else:\n",
    "            return x\n",
    "\n",
    "df['street_name'] = df['address'].apply(get_street)\n",
    "df['street_name']\n",
    "\n",
    "# convert_arm2eng_street\n",
    "# arm2eng_letters_dict\n",
    "# rus2eng_letters_dict\n",
    "# street_district_dict\n"
   ]
  },
  {
   "cell_type": "code",
   "execution_count": 152,
   "metadata": {},
   "outputs": [],
   "source": [
    "def convert_rus2eng_street(street):\n",
    "    street = street.lower()\n",
    "    street = list(street)\n",
    "    for idx in range(len(street)):\n",
    "        if idx == 0 and street[idx] == 'е':\n",
    "            street[idx] = 'ye'\n",
    "        elif street[idx] in [' ', '-', '.', '1', 's', 't', '9']:\n",
    "            pass\n",
    "        else:\n",
    "            if street[idx] in rus2eng_letters_dict.keys():\n",
    "                street[idx] = rus2eng_letters_dict[street[idx]]\n",
    "            else:\n",
    "                pass\n",
    "    return ''.join(street)\n",
    "\n",
    "eng_letters = list(string.ascii_lowercase)\n",
    "\n",
    "def detect_language(street):\n",
    "    street = street.lower()\n",
    "    street = list(street)\n",
    "    language_list = [0, 0, 0]\n",
    "    for letter in street:\n",
    "        if letter in rus2eng_letters_dict.keys():\n",
    "            language_list[0] += 1\n",
    "        if letter in arm2eng_letters_dict.keys():\n",
    "            language_list[1] += 1\n",
    "        if letter in eng_letters:\n",
    "            language_list[2] += 1\n",
    "\n",
    "    if language_list.index(max(language_list)) == 0:\n",
    "        return 'rus'\n",
    "    elif language_list.index(max(language_list)) == 1:\n",
    "        return 'arm'\n",
    "    else:\n",
    "        return 'eng'\n",
    "    \n",
    "def translate_street(street):\n",
    "    language = detect_language(street)\n",
    "    if language == 'arm':\n",
    "        street = convert_arm2eng_street(street)\n",
    "    elif language == 'rus':\n",
    "        street = convert_rus2eng_street(street)\n",
    "    else:\n",
    "        pass\n",
    "    return street\n",
    "    \n",
    "df['street_name'] = df['street_name'].apply(translate_street)"
   ]
  },
  {
   "cell_type": "code",
   "execution_count": 153,
   "metadata": {},
   "outputs": [
    {
     "data": {
      "text/plain": [
       "0                kentron\n",
       "1         yervand kochar\n",
       "2       malatia_sebastia\n",
       "3               nor_norq\n",
       "4                kentron\n",
       "              ...       \n",
       "6673             kentron\n",
       "6674    yeznik koghbatsi\n",
       "6675    malatia_sebastia\n",
       "6676           davtashen\n",
       "6677            nor_norq\n",
       "Name: district_name, Length: 6678, dtype: object"
      ]
     },
     "execution_count": 153,
     "metadata": {},
     "output_type": "execute_result"
    }
   ],
   "source": [
    "def get_district(x):\n",
    "    for street in street_district_dict.keys():\n",
    "        temp_street = list(street)\n",
    "        if temp_street[-1] == 'i':\n",
    "            temp_street[-1] = ''\n",
    "        temp_street = ''.join(temp_street)\n",
    "        if temp_street in x:\n",
    "            return street_district_dict[street]\n",
    "    if 'davtashen' in x or 'davidashen' in x:\n",
    "        return 'davtashen'\n",
    "    elif 'arabkir' in x:\n",
    "        return 'arabkir'\n",
    "    elif 'shengavit' in x:\n",
    "        return 'shengavit'\n",
    "    elif 'kanaker-zeytun' in x or 'kanaker' in x or 'qanaqer' in x:\n",
    "        return 'qanaqer_zeytun'\n",
    "    elif 'nor nork' in x or 'nor norq' in x:\n",
    "        return 'nor_norq'\n",
    "    elif 'avan-arinj' in x:\n",
    "        return 'avan_arinj'\n",
    "    else:\n",
    "        return x\n",
    "\n",
    "df['district_name'] = df['street_name'].apply(get_district)\n",
    "df['district_name']"
   ]
  },
  {
   "cell_type": "code",
   "execution_count": 154,
   "metadata": {},
   "outputs": [],
   "source": [
    "new_street2district_dict = {\n",
    "    'zakhariya sarkavag': 'qanaqer_zeytun',\n",
    "    'tumanyan': 'kentron',\n",
    "    'shahumyan': 'malatia_sebastia',\n",
    "    'totoventsi': 'nor_norq',\n",
    "    'vilnyus': 'nor_norq',\n",
    "    'sundukyan': 'kentron',\n",
    "    'eghishe tadevosyan': 'shengavit',\n",
    "    'artashisyan': 'shengavit',\n",
    "    'duryan': 'avan',\n",
    "    'zakaria sarkavag': 'qanaqer_zeytun',\n",
    "    'sayat nova': 'kentron',\n",
    "    'karakhanyan': 'nor_norq',\n",
    "    'mikhail chailakhyan': 'kentron',\n",
    "    'gogoli': 'qanaqer_zeytun',\n",
    "    'nor aresh': 'erebuni',\n",
    "    'moldovakan': 'nor_norq',\n",
    "    'orbeli brothers': 'kentron',\n",
    "    'khorenatsi': 'kentron',\n",
    "    'movses khorenatsi': 'kentron',\n",
    "    'dro': 'qanaqer_zeytun',\n",
    "    'arno babajanian': 'malatia_sebastia',\n",
    "    'gulakyan': 'kentron',\n",
    "    'lepsius': 'qanaqer_zeytun',\n",
    "    'tbilisian': 'qanaqer_zeytun',\n",
    "    'tsarav aghbyuri': 'avan',\n",
    "    'frik': 'kentron',\n",
    "    'raffi': 'malatia_sebastia',\n",
    "    'arghutyan': 'arabkir',\n",
    "    'luxemburg': 'nor_norq',\n",
    "    'kajaznuni': 'kentron',\n",
    "    'sisakyan': 'ajapnyak',\n",
    "    'bryusov': 'kentron', \n",
    "    'gai': 'nor_norq', \n",
    "    'sisvan': 'kentron', \n",
    "    'vardashen': 'erebuni', \n",
    "    'tamanyan': 'kentron',\n",
    "    'melik melikyan': 'qanaqer_zeytun',\n",
    "    'qeri': 'arabkir', \n",
    "    'zaqyan': 'kentron',\n",
    "    'melkumov': 'davtashen', \n",
    "    'arghutyan': 'arabkir', \n",
    "    'avet': 'kentron',\n",
    "    'avet avetisyan': 'kentron', \n",
    "    'arshakuniats': 'kentron',  \n",
    "    'gyulikekhvyan': 'nor_norq',\n",
    "    'rubiniants': 'qanaqer_zeytun', \n",
    "    'davit malyan': 'avan',\n",
    "    'sharuri': 'shengavit', \n",
    "    'chaykovski': 'kentron', \n",
    "    'bakunts': 'nor_norq', \n",
    "    'erznkyan': 'kentron', \n",
    "    'zavaryan': 'kentron',\n",
    "    'hunan': 'erebuni', \n",
    "    'lvovyan': 'nor_norq', \n",
    "    'kristapor': 'kentron',\n",
    "    'aghbyur serob': 'kentron', \n",
    "    'margarian': 'ajapnyak', \n",
    "    'kurghinyan': 'malatia_sebastia', \n",
    "    'avanesov': 'erebuni', \n",
    "    'byuzand': 'kentron',\n",
    "    'hyusisayin': 'kentron', \n",
    "    'ulnetsi': 'qanaqer_zeytun', \n",
    "    'khaghag don': 'erebuni', \n",
    "    'leo': 'kentron',\n",
    "    'hovsep emin': 'arabkir', \n",
    "    'nansen': 'nor_norq', \n",
    "    'babadjհanyana': 'avan',\n",
    "    'malkhasyants': 'arabkir', \n",
    "    'rostom': 'kentron', \n",
    "    'hrachya nersisyan': 'qanaqer_zeytun', \n",
    "    'koghbaci': 'kentron',\n",
    "    'parpetsu': 'kentron', \n",
    "    'aharonyan': 'qanaqer_zeytun', \n",
    "    'mari': 'nor_norq',\n",
    "    'shovroyan': 'qanaqer_zeytun', \n",
    "    'baghyan': 'nor_norq', \n",
    "    'minsk': 'nor_norq',\n",
    "    'tolbukhin': 'qanaqer_zeytun', \n",
    "    'minas': 'qanaqer_zeytun', \n",
    "    'kokhbatsi': 'kentron', \n",
    "    'koghbatsi': 'kentron',\n",
    "    'deghatan': 'kentron',\n",
    "    'khanzadyan': 'nor_norq', \n",
    "    'meliq meliqyan': 'qanaqer_zeytun', \n",
    "    'sasnatsrer': 'arabkir',\n",
    "    'aragats': 'shengavit', \n",
    "    'nizami': 'shengavit', \n",
    "    'avanesov': 'kentron', \n",
    "    'aghayan': 'kentron',\n",
    "    'monte melkonyan': 'ajapnyak_text', \n",
    "    'yekmalyan': 'kentron', \n",
    "    'malatia': 'malatia_sebastia', \n",
    "    'isabekyan': 'nor_norq', \n",
    "    'isahakyan': 'kentron', \n",
    "    'quchak': 'malatia_sebastia',\n",
    "    'zakian': 'kentron', \n",
    "    'melqumov': 'davtashen',\n",
    "    'kocharyan': 'nor_norq',\n",
    "    'gyuliqekhvyan': 'nor_norq', \n",
    "    'monte melqonyan': 'ajapnyak',\n",
    "    'toumanyan', 'parpetsi', '', 'hrachya kochar',\n",
    "    'zaqaria sarkavagi', 'ghapantsian', 'hayk gyulikevkhyan',\n",
    "    'mkhitar heratsi', 'nubarashen', 'nersisyan poghotsi',\n",
    "    'arzoumanian', 'araqelyan', 'ashot hovhannisyan', 'muratsan',\n",
    "    'nelson stepanyan', 'ghapantsyan', '4-i', 'miqayel chaylakhyan',\n",
    "    'alek manoukyan', 'lukashin', 'forest', 'badal muradyan',\n",
    "    'hovsep arghutian', 'svachyan', 'yan', '16th', 'sayat-nova',\n",
    "    'tigrana metsa,', 'taronts', \n",
    "}\n",
    "\n",
    "street_district_dict.update(new_street2district_dict)"
   ]
  },
  {
   "cell_type": "code",
   "execution_count": 35,
   "metadata": {},
   "outputs": [],
   "source": [
    "# street_district_dict['monte melqonyani']"
   ]
  },
  {
   "cell_type": "code",
   "execution_count": 156,
   "metadata": {},
   "outputs": [
    {
     "data": {
      "text/plain": [
       "array(['kentron', 'yervand kochar', 'malatia_sebastia', 'nor_norq',\n",
       "       'ajapnyak', 'arabkir', 'nazarbekyan', 'narekatsi', 'shengavit',\n",
       "       'avan', 'qanaqer_zeytun', 'davtashen', 'kentronakan', 'erebuni',\n",
       "       'avan_arinj', 'harav arevmtyan b2', 'nelsonstreetepanyan', 'mayak',\n",
       "       'norashen', 'zakian', 'melqumovi', 'hanrapetutyun', 'norq_marash',\n",
       "       'narekatsu', 'davidashen 4-th', '16', 'davitashen', 'kocharyan',\n",
       "       'hin tsu', 'gyuliqekhvyan', 'monte melqonyan', 'yeznik koghbatsi',\n",
       "       'davidashen 3-rd', 'toumanyan', 'parpetsi', '', 'hrachya kochar',\n",
       "       'zaqaria sarkavagi', 'ghapantsian', 'hayk gyulikevkhyan',\n",
       "       'mkhitar heratsi', 'nubarashen', 'nersisyan poghotsi',\n",
       "       'arzoumanian', 'araqelyan', 'ashot hovhannisyan', 'muratsan',\n",
       "       'nelson stepanyan', 'ghapantsyan', '4-i', 'miqayel chaylakhyan',\n",
       "       'alek manoukyan', 'lukashin', 'forest', 'badal muradyan',\n",
       "       'hovsep arghutian', 'svachyan', 'yan', '16th', 'sayat-nova',\n",
       "       'tigrana metsa,', 'taronts', 'Republic Square, ',\n",
       "       'davidashen 2-nd', 'ghazar parpetsi', 'banavan', 'fuchik',\n",
       "       'belyakov', 'northern', 'fuchik 2-nd', 'soghomon taronts',\n",
       "       'sari tagh 7-rd', 'aksel bakunc 1-st', 'yekhbairutsyan 16/2,',\n",
       "       'ekmalyan', 'davidashen 1-st', 'aygedzor', 'kadjհaznuni 6,',\n",
       "       'shevchenkoyi', 'hovhanisyan', 'sose', 'ler kamsari', 'raynis',\n",
       "       'tichina', 'aleksandr spendiarian', 'ashot hovhannisyani',\n",
       "       'rafayel israelyan', 'varshavyan', 'qanaker 14th',\n",
       "       'sasuntsi davit', 'aeratsiayi', 'ajapnyak_text', 'sarmen',\n",
       "       'rustaveli', 'vahagn davtyani', 'belyakovi', 'sevan',\n",
       "       'gevorg emini', 'vahagn davtian', 'arzumanyana,', 'fuchiki',\n",
       "       'mikhayil glinkayi', 'lyuksemburgstreetreet 1st', 'Argishti 11, ',\n",
       "       'haghtanaki 11-rd', 'kurghinian', 'hayrik muradyan',\n",
       "       'karp khachvanqyan', 'mamikonyan', 'tsarav akhpyur', 'jughayi',\n",
       "       'aigestan,', 'abelian', 'hrachya tamrazyan', 'david anhaght',\n",
       "       'romanos meliqyan', 'simon vratsyan', 'badal muradyani',\n",
       "       'bnakeli hamalir byuregh, ', 'grigor artsrunu', 'b2',\n",
       "       'sevkaretsi sako', 'malatiya', 'sevqaretsi saqoyi', 'arzumanyan',\n",
       "       'khakhakh doni,', 'estonakan', 'ayasi', 'dzor 1',\n",
       "       'alexandr spendaryan', 'muratsani', 'barbyus', 'bashindjհagyana,',\n",
       "       'lyuqsemburgi', 'shrjanain', 'mikayelyan', '2-i',\n",
       "       'tsarav agpyur 61/4,', 'yan, ekhvard', 'hrazdan', 'glinkayi',\n",
       "       'vahagni', 'gyurdjհyan,', 'vardan achemyan', 'aeratsia',\n",
       "       'hovhannisyan', 'lyuqsemburgi poghots 1-in', '21,', 'kuchak',\n",
       "       'yerznkian', 'nikol duman', 'vahagn davtyan', 'sevana 11/4,',\n",
       "       'fuchiki 1-in', 'verin antarain,', 'rustamyan', 'manushyan',\n",
       "       'nor-aresh 42th', 'israelyana,', 'zoravara andranika,',\n",
       "       'soghomon tarontsi', 'titogradian', 'alikhanyan eghbayrner',\n",
       "       'hovhannes hovhannisyani', 'tigrana metsa 27/2,', 'bagramyana,',\n",
       "       'tsaturyan', 'surb grigor lusavorich', 'viktor hambartsumyan',\n",
       "       'huysi avan 1-in', '1', 'keru,', 'aksel bakunc 2-nd',\n",
       "       'mikhai eminesku,', 'odessa', 'nelson stepanyani', 'anrapetutyan,',\n",
       "       ',', 'sosei', 'aygedzori poghotsi 1-in', 'Mesrop Mashtots, ',\n",
       "       'gurgen mahari', 'aygestan 10th', 'eghvardi', 'raynisi', 'byron',\n",
       "       'norashkharhyani', 'byusand', 'andranika zoravara,',\n",
       "       'grigora asratyana 6,', 'griboedova 58,', 'glinka',\n",
       "       'daniel varujan', 'tigrana metsa 32,', 'simon vratsyani',\n",
       "       'cholaqyan', 'aygestani 4rd', 'mikroraion yugo-zapadnii b2, '],\n",
       "      dtype=object)"
      ]
     },
     "execution_count": 156,
     "metadata": {},
     "output_type": "execute_result"
    }
   ],
   "source": [
    "df['district_name'].unique()"
   ]
  },
  {
   "cell_type": "markdown",
   "metadata": {},
   "source": [
    "### Creating distance feature"
   ]
  },
  {
   "cell_type": "code",
   "execution_count": 55,
   "metadata": {},
   "outputs": [],
   "source": [
    "PKL_PATH = Path(r'C:\\Users\\vchar\\OneDrive\\Desktop\\ML Projects\\portfolio\\ArmenianHousePrices\\artifacts')\n",
    "\n",
    "latitude_dict = pickle.load(open(os.path.join(PKL_PATH, 'latitude_dict.pkl'), 'rb'))\n",
    "longitude_dict = pickle.load(open(os.path.join(PKL_PATH, 'longitude_dict.pkl'), 'rb'))\n",
    "\n",
    "city_attrs_dict = pickle.load(open(os.path.join(PKL_PATH, 'city_attrs_dict.pkl'), 'rb'))\n",
    "malls_dict = pickle.load(open(os.path.join(PKL_PATH, 'malls_dict.pkl'), 'rb'))\n",
    "metro_stations_dict = pickle.load(open(os.path.join(PKL_PATH, 'metro_stations_dict.pkl'), 'rb'))"
   ]
  },
  {
   "cell_type": "markdown",
   "metadata": {},
   "source": [
    "Creating geo location coordinates' features"
   ]
  },
  {
   "cell_type": "code",
   "execution_count": 52,
   "metadata": {},
   "outputs": [
    {
     "name": "stdout",
     "output_type": "stream",
     "text": [
      "(22424, 43)\n",
      "(22424, 43)\n",
      "(22424, 43)\n"
     ]
    }
   ],
   "source": [
    "# address_location_dict = {i: (latitude_dict[i], longitude_dict[i]) for i in latitude_dict.keys()}\n",
    "\n",
    "df['latitude'] = df.index.map(latitude_dict)\n",
    "df['longitude'] = df.index.map(longitude_dict)\n",
    "print(df.shape)\n",
    "# df['latitude'].dropna(inplace=True)\n",
    "df.dropna(inplace=True)\n",
    "print(df.shape)\n",
    "# df['longitude'].dropna(inplace=True)\n",
    "df.dropna(inplace=True)\n",
    "print(df.shape)\n",
    "df['geo_location'] = df[['latitude', 'longitude']].apply(lambda x: (x.latitude, x.longitude), axis=1)"
   ]
  },
  {
   "cell_type": "code",
   "execution_count": 56,
   "metadata": {},
   "outputs": [],
   "source": [
    "def get_distance(location1, location2):\n",
    "    \n",
    "    loc1_latitude, loc1_longitude = location1\n",
    "    loc2_latitude, loc2_longitude = location2\n",
    "    \n",
    "    dist = 6371.01 * acos(\n",
    "        sin(loc1_latitude)*sin(loc2_latitude) + \\\n",
    "        cos(loc1_latitude)*cos(loc2_latitude)*cos(loc2_longitude - loc1_longitude)\n",
    "    )\n",
    "\n",
    "    return dist"
   ]
  },
  {
   "cell_type": "markdown",
   "metadata": {},
   "source": [
    "Creating city attractions distances"
   ]
  },
  {
   "cell_type": "code",
   "execution_count": 59,
   "metadata": {},
   "outputs": [
    {
     "name": "stdout",
     "output_type": "stream",
     "text": [
      "Lovers Park, Yerevan: city_attr_0\n",
      "Republic Square, Yerevan: city_attr_1\n",
      "Cascade, Yerevan: city_attr_2\n",
      "Saint Gregory the Illuminator Cathedral, Yerevan: city_attr_3\n",
      "Kievyan Bridge, Yerevan: city_attr_4\n",
      "Koryun Street, 2, Yerevan: city_attr_5\n",
      "Opera Theatre, Yerevan: city_attr_6\n",
      "Vernissage, Yerevan: city_attr_7\n",
      "Victory Park, Yerevan: city_attr_8\n",
      "Matenadaran, Yerevan: city_attr_9\n",
      "Vartanants Square, Yerevan: city_attr_10\n",
      "Yerevan State University: city_attr_11\n"
     ]
    }
   ],
   "source": [
    "for idx, (city_attr, attr_values) in enumerate(city_attrs_dict.items()):\n",
    "    df[f'city_attr_{idx}'] = df['geo_location'].apply(lambda x: get_distance(x, attr_values[1:]))\n",
    "    print(f'{city_attr}: city_attr_{idx}')"
   ]
  },
  {
   "cell_type": "markdown",
   "metadata": {},
   "source": [
    "Creating metro station distances"
   ]
  },
  {
   "cell_type": "code",
   "execution_count": 61,
   "metadata": {},
   "outputs": [
    {
     "name": "stdout",
     "output_type": "stream",
     "text": [
      "Barekamutyun metro station, Yerevan: metro_station_0\n",
      "Zoravar (General) Andranik metro station, Yerevan: metro_station_1\n",
      "Gortsaranain metro station, Yerevan: metro_station_2\n",
      "Garegin Nzhdeh Square metro station, Yerevan: metro_station_3\n",
      "Charbakh metro station, Yerevan: metro_station_4\n",
      "Shengavit metro station, Yerevan: metro_station_5\n",
      "Marshal Baghramyan metro station, Yerevan: metro_station_6\n",
      "Yeritasardakan metro station, Yerevan: metro_station_7\n",
      "Republic Square metro station, Yerevan: metro_station_8\n",
      "David of Sasun metro station, Yerevan: metro_station_9\n"
     ]
    }
   ],
   "source": [
    "for idx, (metro_station, attr_values) in enumerate(metro_stations_dict.items()):\n",
    "    df[f'metro_station_{idx}'] = df['geo_location'].apply(lambda x: get_distance(x, attr_values[1:]))\n",
    "    print(f'{metro_station}: metro_station_{idx}')\n",
    "\n",
    "df['closest_metro_distance'] = np.min(df[[f'metro_station_{idx}' for idx in range(10)]].values, axis=1)"
   ]
  },
  {
   "cell_type": "markdown",
   "metadata": {},
   "source": [
    "Creating mall distances"
   ]
  },
  {
   "cell_type": "code",
   "execution_count": 63,
   "metadata": {},
   "outputs": [
    {
     "name": "stdout",
     "output_type": "stream",
     "text": [
      "Yerevan Mall, Yerevan: mall_0\n",
      "Rio mall, Yerevan: mall_1\n",
      "Dalma Garden Mall, Yerevan: mall_2\n",
      "Mega Mall, Yerevan: mall_3\n"
     ]
    }
   ],
   "source": [
    "for idx, (mall_name, attr_values) in enumerate(malls_dict.items()):\n",
    "    df[f'mall_{idx}'] = df['geo_location'].apply(lambda x: get_distance(x, attr_values[1:]))\n",
    "    print(f'{mall_name}: mall_{idx}')\n",
    "\n",
    "df['closest_mall_distance'] = np.min(df[[f'mall_{idx}' for idx in range(4)]].values, axis=1)"
   ]
  },
  {
   "cell_type": "code",
   "execution_count": 70,
   "metadata": {},
   "outputs": [
    {
     "data": {
      "text/plain": [
       "0        124.079898\n",
       "1        134.940334\n",
       "2        154.460103\n",
       "3         23.111663\n",
       "4        160.966858\n",
       "            ...    \n",
       "22419    214.084006\n",
       "22420     29.262823\n",
       "22421    136.677371\n",
       "22422     99.688017\n",
       "22423     67.514038\n",
       "Name: closest_mall_distance, Length: 22424, dtype: float64"
      ]
     },
     "execution_count": 70,
     "metadata": {},
     "output_type": "execute_result"
    }
   ],
   "source": [
    "df['closest_mall_distance']"
   ]
  },
  {
   "cell_type": "markdown",
   "metadata": {},
   "source": [
    "# General Summary"
   ]
  },
  {
   "cell_type": "code",
   "execution_count": 71,
   "metadata": {},
   "outputs": [
    {
     "name": "stdout",
     "output_type": "stream",
     "text": [
      "<class 'pandas.core.frame.DataFrame'>\n",
      "RangeIndex: 22424 entries, 0 to 22423\n",
      "Data columns (total 73 columns):\n",
      " #   Column                  Non-Null Count  Dtype         \n",
      "---  ------                  --------------  -----         \n",
      " 0   description             22424 non-null  object        \n",
      " 1   address                 22424 non-null  object        \n",
      " 2   seller_type             22424 non-null  object        \n",
      " 3   total_description       22424 non-null  object        \n",
      " 4   posted_date             22424 non-null  datetime64[ns]\n",
      " 5   renewed_date            22424 non-null  object        \n",
      " 6   seller_id               22424 non-null  object        \n",
      " 7   estate_type             22424 non-null  object        \n",
      " 8   estate_id               22424 non-null  int64         \n",
      " 9   Number of Rooms         22424 non-null  object        \n",
      " 10  Ceiling Height          22424 non-null  float64       \n",
      " 11  Floor                   22424 non-null  int64         \n",
      " 12  Renovation              22424 non-null  object        \n",
      " 13  Furniture               22424 non-null  object        \n",
      " 14  New Construction        22424 non-null  object        \n",
      " 15  Floor Area              22424 non-null  int64         \n",
      " 16  Construction Type       22424 non-null  object        \n",
      " 17  Number of Bathrooms     22424 non-null  object        \n",
      " 18  Balcony                 22424 non-null  object        \n",
      " 19  Elevator                22424 non-null  object        \n",
      " 20  Floors in the Building  22424 non-null  int64         \n",
      " 21  covered parking         22424 non-null  int64         \n",
      " 22  outdoor parking         22424 non-null  int64         \n",
      " 23  garage                  22424 non-null  int64         \n",
      " 24  air conditioner         22424 non-null  int64         \n",
      " 25  dishwasher              22424 non-null  int64         \n",
      " 26  washing machine         22424 non-null  int64         \n",
      " 27  fridge                  22424 non-null  int64         \n",
      " 28  drying machine          22424 non-null  int64         \n",
      " 29  stove                   22424 non-null  int64         \n",
      " 30  park view               22424 non-null  int64         \n",
      " 31  street view             22424 non-null  int64         \n",
      " 32  view of Ararat          22424 non-null  int64         \n",
      " 33  yard view               22424 non-null  int64         \n",
      " 34  city view               22424 non-null  int64         \n",
      " 35  concierge               22424 non-null  int64         \n",
      " 36  intercom entry          22424 non-null  int64         \n",
      " 37  playground              22424 non-null  int64         \n",
      " 38  sqm_price_usd           22424 non-null  float64       \n",
      " 39  region                  22424 non-null  object        \n",
      " 40  geo_location            22424 non-null  object        \n",
      " 41  latitude                22157 non-null  float64       \n",
      " 42  longitude               22157 non-null  float64       \n",
      " 43  is_capital              22424 non-null  int64         \n",
      " 44  city_attr_0             22157 non-null  float64       \n",
      " 45  city_attr_1             22157 non-null  float64       \n",
      " 46  city_attr_2             22157 non-null  float64       \n",
      " 47  city_attr_3             22157 non-null  float64       \n",
      " 48  city_attr_4             22157 non-null  float64       \n",
      " 49  city_attr_5             22157 non-null  float64       \n",
      " 50  city_attr_6             22157 non-null  float64       \n",
      " 51  city_attr_7             22157 non-null  float64       \n",
      " 52  city_attr_8             22157 non-null  float64       \n",
      " 53  city_attr_9             22157 non-null  float64       \n",
      " 54  city_attr_10            22157 non-null  float64       \n",
      " 55  city_attr_11            22157 non-null  float64       \n",
      " 56  metro_station_0         22157 non-null  float64       \n",
      " 57  metro_station_1         22157 non-null  float64       \n",
      " 58  metro_station_2         22157 non-null  float64       \n",
      " 59  metro_station_3         22157 non-null  float64       \n",
      " 60  metro_station_4         22157 non-null  float64       \n",
      " 61  metro_station_5         22157 non-null  float64       \n",
      " 62  metro_station_6         22157 non-null  float64       \n",
      " 63  metro_station_7         22157 non-null  float64       \n",
      " 64  metro_station_8         22157 non-null  float64       \n",
      " 65  metro_station_9         22157 non-null  float64       \n",
      " 66  mall_name_3             22157 non-null  float64       \n",
      " 67  mall_0                  22157 non-null  float64       \n",
      " 68  mall_1                  22157 non-null  float64       \n",
      " 69  mall_2                  22157 non-null  float64       \n",
      " 70  mall_3                  22157 non-null  float64       \n",
      " 71  closest_metro_distance  22157 non-null  float64       \n",
      " 72  closest_mall_distance   22157 non-null  float64       \n",
      "dtypes: datetime64[ns](1), float64(33), int64(22), object(17)\n",
      "memory usage: 12.5+ MB\n"
     ]
    }
   ],
   "source": [
    "df.info()"
   ]
  },
  {
   "cell_type": "code",
   "execution_count": 77,
   "metadata": {},
   "outputs": [
    {
     "data": {
      "text/plain": [
       "region                      0\n",
       "geo_location                0\n",
       "latitude                  267\n",
       "longitude                 267\n",
       "is_capital                  0\n",
       "city_attr_0               267\n",
       "city_attr_1               267\n",
       "city_attr_2               267\n",
       "city_attr_3               267\n",
       "city_attr_4               267\n",
       "city_attr_5               267\n",
       "city_attr_6               267\n",
       "city_attr_7               267\n",
       "city_attr_8               267\n",
       "city_attr_9               267\n",
       "city_attr_10              267\n",
       "city_attr_11              267\n",
       "metro_station_0           267\n",
       "metro_station_1           267\n",
       "metro_station_2           267\n",
       "metro_station_3           267\n",
       "metro_station_4           267\n",
       "metro_station_5           267\n",
       "metro_station_6           267\n",
       "metro_station_7           267\n",
       "metro_station_8           267\n",
       "metro_station_9           267\n",
       "mall_0                    267\n",
       "mall_1                    267\n",
       "mall_2                    267\n",
       "mall_3                    267\n",
       "closest_metro_distance    267\n",
       "closest_mall_distance     267\n",
       "dtype: int64"
      ]
     },
     "execution_count": 77,
     "metadata": {},
     "output_type": "execute_result"
    }
   ],
   "source": [
    "df.iloc[:, -33:].isnull().sum()"
   ]
  },
  {
   "cell_type": "code",
   "execution_count": null,
   "metadata": {},
   "outputs": [],
   "source": [
    "# remove features with low variance\n"
   ]
  }
 ],
 "metadata": {
  "kernelspec": {
   "display_name": "ml_projects",
   "language": "python",
   "name": "python3"
  },
  "language_info": {
   "codemirror_mode": {
    "name": "ipython",
    "version": 3
   },
   "file_extension": ".py",
   "mimetype": "text/x-python",
   "name": "python",
   "nbconvert_exporter": "python",
   "pygments_lexer": "ipython3",
   "version": "3.10.14"
  }
 },
 "nbformat": 4,
 "nbformat_minor": 2
}
