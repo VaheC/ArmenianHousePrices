{
 "cells": [
  {
   "cell_type": "markdown",
   "metadata": {},
   "source": [
    "# Loading some packages"
   ]
  },
  {
   "cell_type": "code",
   "execution_count": 6,
   "metadata": {},
   "outputs": [],
   "source": [
    "import pandas as pd\n",
    "\n",
    "from sklearn.impute import SimpleImputer\n",
    "from sklearn.preprocessing import StandardScaler, OrdinalEncoder\n",
    "from sklearn.pipeline import Pipeline\n",
    "from sklearn.compose import ColumnTransformer\n",
    "from sklearn.model_selection import train_test_split, KFold, StratifiedKFold\n",
    "from sklearn.linear_model import Lasso, Ridge\n",
    "from sklearn.feature_selection import VarianceThreshold\n",
    "from sklearn.feature_selection import SequentialFeatureSelector\n",
    "from sklearn.feature_selection import RFE\n",
    "from sklearn.feature_selection import r_regression, SelectKBest\n",
    "from sklearn.feature_selection import mutual_info_regression\n",
    "from sklearn.feature_selection import f_classif\n",
    "\n",
    "from scipy import stats\n",
    "\n",
    "from statsmodels.stats.outliers_influence import variance_inflation_factor\n",
    "\n",
    "from boruta import BorutaPy\n",
    "\n",
    "from collections import Counter\n",
    "\n",
    "import os\n",
    "from pathlib import Path"
   ]
  },
  {
   "cell_type": "markdown",
   "metadata": {},
   "source": [
    "# Loading the data"
   ]
  },
  {
   "cell_type": "code",
   "execution_count": 8,
   "metadata": {},
   "outputs": [],
   "source": [
    "DATA_PATH = Path(r'C:/\\Users/\\vchar/\\OneDrive/\\Desktop/\\ML Projects/\\portfolio/\\ArmenianHousePrices/\\notebooks/\\data')\n",
    "\n",
    "data = pd.read_csv(os.path.join(DATA_PATH, 'final_data.csv'))\n",
    "\n",
    "cat_feats_list = list(data.select_dtypes(include=['object']).columns)\n",
    "remove_cat_list =[\n",
    "    'description', 'address', 'seller_type', 'total_description',\n",
    "    'renewed_date', 'seller_id', 'region', 'geo_location', 'estate_type'\n",
    "]\n",
    "cat_feats_list = [i for i in cat_feats_list if i not in remove_cat_list]\n",
    "\n",
    "ordinal_feats_list = ['Number of Rooms', 'Number of Bathrooms']\n",
    "\n",
    "nominal_feats_list = [i for i in cat_feats_list if i not in ordinal_feats_list]\n",
    "\n",
    "num_feats_list = list(data.select_dtypes(exclude=['object']).columns)\n",
    "remove_num_feats_list = ['posted_date', 'is_capital', 'sqm_price_usd']\n",
    "num_feats_list = [i for i in num_feats_list if i not in remove_num_feats_list]\n",
    "# feats_name_list = [col for col in data.columns if col!='']\n",
    "\n",
    "feats_name_list = []\n",
    "feats_name_list.extend(cat_feats_list)\n",
    "feats_name_list.extend(num_feats_list)\n",
    "\n",
    "y = data['sqm_price_usd'].copy().to_frame()\n",
    "X = data[feats_name_list].copy()"
   ]
  },
  {
   "cell_type": "markdown",
   "metadata": {},
   "source": [
    "# Feature elimination"
   ]
  },
  {
   "cell_type": "markdown",
   "metadata": {},
   "source": [
    "## Removing low variance features"
   ]
  },
  {
   "cell_type": "code",
   "execution_count": null,
   "metadata": {},
   "outputs": [],
   "source": [
    "num_feats_list = list(X.select_dtype(include=['']).columns)\n",
    "cat_feats_list = list(X.select_dtype(include=['object']).columns)\n",
    "\n",
    "variance_selector = VarianceThreshold(threshold=0.05)\n",
    "X_selection = variance_selector.fit_transform(X[num_feats_list])"
   ]
  },
  {
   "cell_type": "markdown",
   "metadata": {},
   "source": [
    "## Variance Inflation Factor"
   ]
  },
  {
   "cell_type": "code",
   "execution_count": null,
   "metadata": {},
   "outputs": [],
   "source": [
    "def calculate_vif(X):\n",
    "    \n",
    "    vif = pd.DataFrame()\n",
    "    vif[\"features\"] = X.columns\n",
    "    vif[\"VIF\"] = [variance_inflation_factor(X.values, i) for i in range(X.shape[1])]\n",
    "\n",
    "    return vif\n",
    "\n",
    "def select_feats_via_vif(X):\n",
    "\n",
    "    vif_df = calculate_vif(X)\n",
    "\n",
    "    while vif_df[vif_df['VIF'] >=10].shape[0] != 0:\n",
    "        vif_df.sort_values('VIF', ascending=False).reset_index(drop=True, inplace=True)\n",
    "        elimination_candidate = vif_df.iloc[0]['features']\n",
    "        new_X = X.drop(columns=elimination_candidate)\n",
    "        vif_df = calculate_vif(new_X)\n",
    "\n",
    "    return list(vif_df['features'].values)"
   ]
  },
  {
   "cell_type": "code",
   "execution_count": null,
   "metadata": {},
   "outputs": [],
   "source": [
    "knn = KNeighborsClassifier(n_neighbors=3)\n",
    "sfs = SequentialFeatureSelector(knn, n_features_to_select=3, direction=”forward”)\n",
    "sfs.fit(X, y)\n",
    "X_selection = sfs.transform(X)\n",
    "\n",
    "svc = SVC(kernel=\"linear\")\n",
    "rfe = RFE(svc, n_features_to_select=3)\n",
    "rfe.fit(X, y)\n",
    "X_selection = rfe.transform(X)"
   ]
  },
  {
   "cell_type": "markdown",
   "metadata": {},
   "source": [
    "## Feature selection class"
   ]
  },
  {
   "cell_type": "code",
   "execution_count": null,
   "metadata": {},
   "outputs": [],
   "source": [
    "class FSelector():\n",
    "\n",
    "    def __init__(self, X, y, num_feats, ordinal_feats, nominal_feats, model):\n",
    "\n",
    "        self.X = X\n",
    "        self.y = y\n",
    "        self.num_feats = num_feats\n",
    "        self.ordinal_feats = ordinal_feats\n",
    "        self.nominal_feats = nominal_feats\n",
    "        self.model = model\n",
    "\n",
    "    def calculate_vif(self, X):\n",
    "    \n",
    "        vif = pd.DataFrame()\n",
    "        vif[\"features\"] = X.columns\n",
    "        vif[\"VIF\"] = [variance_inflation_factor(X.values, i) for i in range(X.shape[1])]\n",
    "\n",
    "        return vif\n",
    "\n",
    "    def select_feats_via_vif(self):\n",
    "\n",
    "        vif_df = self.calculate_vif(self.X[self.num_feats])\n",
    "\n",
    "        while vif_df[vif_df['VIF'] >=10].shape[0] != 0:\n",
    "            vif_df.sort_values('VIF', ascending=False).reset_index(drop=True, inplace=True)\n",
    "            elimination_candidate = vif_df.iloc[0]['features']\n",
    "            new_X = self.X[self.num_feats].drop(columns=elimination_candidate)\n",
    "            vif_df = calculate_vif(new_X)\n",
    "\n",
    "        return list(vif_df['features'].values)\n",
    "    \n",
    "    def get_spearmanr(self):\n",
    "        return [stats.spearmanr(self.X.values[:, f], self.y.values).correlation for f in range(self.X.shape[1])]\n",
    "    \n",
    "    def get_kendalltau(self):\n",
    "        return [stats.kendalltau(self.X.values[:, f], self.y.values).correlation for f in range(self.X.shape[1])]\n",
    "    \n",
    "    def get_pointbiserialr(self):\n",
    "        return [stats.pointbiserialr(self.X.values[:, f], self.y.values).correlation for f in range(self.X.shape[1])]\n",
    "    \n",
    "    def get_boruto_feats(self, model):\n",
    "        feat_selector = BorutaPy(model, n_estimators='auto', verbose=2, random_state=1)\n",
    "        feat_selector.fit(self.X, self.y)\n",
    "        return feat_selector.support_\n",
    "    \n",
    "    def get_votes(self):\n",
    "\n",
    "        if self.num_feats is not None:\n",
    "\n",
    "            self.vif_feats = self.select_feats_via_vif()\n",
    "\n",
    "            self.pearson_feats = SelectKBest(r_regression, k=15).fit_transform(self.X[self.num_feats], self.y).columns\n",
    "\n",
    "            self.num_spearmanr_feats = SelectKBest(self.get_spearmanr, k=15).fit_transform(self.X[self.num_feats], self.y).columns\n",
    "\n",
    "            self.num_kendalltau_feats = SelectKBest(self.get_kendalltau, k=15).fit_transform(self.X[self.num_feats], self.y).columns\n",
    "\n",
    "            self.selected_num_feats = [self.pearson_feats]\n",
    "            self.selected_num_feats.extend(self.num_spearmanr_feats)\n",
    "            self.selected_num_feats.extend(self.num_kendalltau_feats)\n",
    "            # self.selected_num_feats = list(set(self.selected_num_feats))\n",
    "\n",
    "        if self.ordinal_feats is not None:\n",
    "\n",
    "            self.ordinal_spearmanr_feats = SelectKBest(self.get_spearmanr, k=15).fit_transform(self.X[self.ordinal_feats], self.y).columns\n",
    "\n",
    "            self.ordinal_kendalltau_feats = SelectKBest(self.get_kendalltau, k=15).fit_transform(self.X[self.ordinal_feats], self.y).columns\n",
    "\n",
    "            self.selected_ordinal_feats = [self.ordinal_spearmanr_feats]\n",
    "            self.selected_ordinal_feats.extend(self.ordinal_kendalltau_feats)\n",
    "            # self.selected_ordinal_feats = list(set(self.selected_ordinal_feats))\n",
    "\n",
    "        if self.nominal_feats is not None:\n",
    "\n",
    "            # self.f_feats = f_classif(self.X[self.nominal_feats], self.y)[0]\n",
    "            self.f_feats = SelectKBest(f_classif, k=15).fit_transform(self.X[self.nominal_feats], self.y).columns\n",
    "            \n",
    "            # self.mi_feats = mutual_info_regression(self.X[self.nominal_feats], self.y)\n",
    "            self.mi_feats = SelectKBest(mutual_info_regression, k=15).fit_transform(self.X[self.nominal_feats], self.y).columns\n",
    "\n",
    "            self.selected_nominal_feats = [self.f_feats]\n",
    "            self.selected_nominal_feats.extend(self.mi_feats)\n",
    "            # self.selected_nominal_feats = list(set(self.selected_nominal_feats))\n",
    "\n",
    "        if self.model is not None:\n",
    "            self.boruto_feats =  self.get_boruto_feats(self.model)\n",
    "\n",
    "        self.selected_num_feats.extend(self.boruto_feats)\n",
    "        num_feats_dict = dict(Counter(self.selected_num_feats))\n",
    "        self.selected_num_feats = [i for i in num_feats_dict if num_feats_dict[i] > 2]\n",
    "\n",
    "        self.selected_ordinal_feats.extend(self.boruto_feats)\n",
    "        ordinal_feats_dict = dict(Counter(self.selected_ordinal_feats))\n",
    "        self.selected_ordinal_feats = [i for i in ordinal_feats_dict if ordinal_feats_dict[i] >= 2]\n",
    "\n",
    "        self.selected_nominal_feats.extend(self.boruto_feats)\n",
    "        nominal_feats_dict = dict(Counter(self.selected_nominal_feats))\n",
    "        self.selected_nominal_feats = [i for i in nominal_feats_dict if nominal_feats_dict[i] >= 2]\n",
    "\n",
    "        self.selected_feats = [self.selected_num_feats]\n",
    "        self.selected_feats.extend(self.selected_ordinal_feats)\n",
    "        self.selected_feats.extend(self.selected_nominal_feats)\n",
    "        self.selected_feats.extend(self.boruto_feats)\n",
    "\n",
    "        return self.selected_feats"
   ]
  },
  {
   "cell_type": "markdown",
   "metadata": {},
   "source": [
    "## Fold creation"
   ]
  },
  {
   "cell_type": "code",
   "execution_count": null,
   "metadata": {},
   "outputs": [],
   "source": [
    "kfold = KFold(n_splits=5, shuffle=True, random_state=42)\n",
    "\n",
    "cv_split_list = []\n",
    "\n",
    "for train_idxs, valid_idxs in kfold.split(X):\n",
    "    cv_split_list.append((train_idxs, valid_idxs))"
   ]
  },
  {
   "cell_type": "code",
   "execution_count": null,
   "metadata": {},
   "outputs": [],
   "source": [
    "# remove numeric features with low variance\n",
    "# use vif to eliminate correlated features\n",
    "# use mutual_info for preliminary feature elimination\n",
    "# RandomForest: use scores to eliminate features\n",
    "# XGBoost: use scores to eliminate features\n",
    "# LightGBM: use scores to eliminate features\n",
    "\n",
    "# create one hot features\n",
    "# Lasso: eliminate features with 0 coefficients\n",
    "# SVM: "
   ]
  },
  {
   "cell_type": "code",
   "execution_count": null,
   "metadata": {},
   "outputs": [],
   "source": [
    "# num_pipeline = Pipeline(\n",
    "#     steps=[\n",
    "#         ('imputer', SimpleImputer(strategy='median')),\n",
    "#         ('scaler', StandardScaler())\n",
    "#     ]\n",
    "# )\n",
    "\n",
    "# cat_pipeline = Pipeline(\n",
    "#     steps=[\n",
    "#         ('imputer', SimpleImputer(strategy='most_frequent')),\n",
    "#         ('ordinalencoder', OrdinalEncoder(categories=[list different categories here])),\n",
    "#         ('scaler', StandardScaler())\n",
    "#     ]\n",
    "# )\n",
    "\n",
    "# preprocessor = ColumnTransformer(\n",
    "#     ('num_pipeline', num_pipeline, numerical_cols),\n",
    "#     ('cat_pipeline', cat_pipeline, cat_cols)\n",
    "# )\n",
    "\n",
    "# preprocessor.fit_transform(), preprocessor.get_feature_names_out()"
   ]
  },
  {
   "cell_type": "code",
   "execution_count": null,
   "metadata": {},
   "outputs": [],
   "source": []
  }
 ],
 "metadata": {
  "kernelspec": {
   "display_name": "ml_projects",
   "language": "python",
   "name": "python3"
  },
  "language_info": {
   "codemirror_mode": {
    "name": "ipython",
    "version": 3
   },
   "file_extension": ".py",
   "mimetype": "text/x-python",
   "name": "python",
   "nbconvert_exporter": "python",
   "pygments_lexer": "ipython3",
   "version": "3.10.14"
  }
 },
 "nbformat": 4,
 "nbformat_minor": 2
}
